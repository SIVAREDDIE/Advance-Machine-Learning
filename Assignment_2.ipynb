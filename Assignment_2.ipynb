{
 "cells": [
  {
   "cell_type": "markdown",
   "metadata": {},
   "source": [
    "The objective of this assignment is to build a convolutionary network \n",
    "the data set contains the image of cats and dogs here model try to learn the features of these image and able to classify unseen\n",
    "images correctly and efficiently."
   ]
  },
  {
   "cell_type": "markdown",
   "metadata": {
    "id": "xzRk1PbuMeOy"
   },
   "source": [
    "About Dataset\n",
    "\n",
    "Data source: The data set has been taken from Kaggle which contains Training and Test sets with 25000 & 12500 images of equal number of cats & dogs respectively. But, we are going to use only few images (2000) to build the model.\n",
    "\n",
    "\n",
    "1. Consider the Cats & Dogs example. Start initially with a training sample of 1000, a validation sample of 500, and a test sample of 500 (like in the text. Use any technique to reduce overfitting and improve performance in developing a network that you train from scratch. What performance did you achieve?"
   ]
  },
  {
   "cell_type": "code",
   "execution_count": 1,
   "metadata": {
    "colab": {
     "base_uri": "https://localhost:8080/",
     "height": 91
    },
    "id": "ZNdhx3tu9JGQ",
    "outputId": "32942995-b9eb-4bc4-89a3-e061c9006214"
   },
   "outputs": [
    {
     "data": {
      "text/html": [
       "\n",
       "     <input type=\"file\" id=\"files-fbd137c0-4993-4b83-aea7-b455b4a01244\" name=\"files[]\" multiple disabled\n",
       "        style=\"border:none\" />\n",
       "     <output id=\"result-fbd137c0-4993-4b83-aea7-b455b4a01244\">\n",
       "      Upload widget is only available when the cell has been executed in the\n",
       "      current browser session. Please rerun this cell to enable.\n",
       "      </output>\n",
       "      <script>// Copyright 2017 Google LLC\n",
       "//\n",
       "// Licensed under the Apache License, Version 2.0 (the \"License\");\n",
       "// you may not use this file except in compliance with the License.\n",
       "// You may obtain a copy of the License at\n",
       "//\n",
       "//      http://www.apache.org/licenses/LICENSE-2.0\n",
       "//\n",
       "// Unless required by applicable law or agreed to in writing, software\n",
       "// distributed under the License is distributed on an \"AS IS\" BASIS,\n",
       "// WITHOUT WARRANTIES OR CONDITIONS OF ANY KIND, either express or implied.\n",
       "// See the License for the specific language governing permissions and\n",
       "// limitations under the License.\n",
       "\n",
       "/**\n",
       " * @fileoverview Helpers for google.colab Python module.\n",
       " */\n",
       "(function(scope) {\n",
       "function span(text, styleAttributes = {}) {\n",
       "  const element = document.createElement('span');\n",
       "  element.textContent = text;\n",
       "  for (const key of Object.keys(styleAttributes)) {\n",
       "    element.style[key] = styleAttributes[key];\n",
       "  }\n",
       "  return element;\n",
       "}\n",
       "\n",
       "// Max number of bytes which will be uploaded at a time.\n",
       "const MAX_PAYLOAD_SIZE = 100 * 1024;\n",
       "\n",
       "function _uploadFiles(inputId, outputId) {\n",
       "  const steps = uploadFilesStep(inputId, outputId);\n",
       "  const outputElement = document.getElementById(outputId);\n",
       "  // Cache steps on the outputElement to make it available for the next call\n",
       "  // to uploadFilesContinue from Python.\n",
       "  outputElement.steps = steps;\n",
       "\n",
       "  return _uploadFilesContinue(outputId);\n",
       "}\n",
       "\n",
       "// This is roughly an async generator (not supported in the browser yet),\n",
       "// where there are multiple asynchronous steps and the Python side is going\n",
       "// to poll for completion of each step.\n",
       "// This uses a Promise to block the python side on completion of each step,\n",
       "// then passes the result of the previous step as the input to the next step.\n",
       "function _uploadFilesContinue(outputId) {\n",
       "  const outputElement = document.getElementById(outputId);\n",
       "  const steps = outputElement.steps;\n",
       "\n",
       "  const next = steps.next(outputElement.lastPromiseValue);\n",
       "  return Promise.resolve(next.value.promise).then((value) => {\n",
       "    // Cache the last promise value to make it available to the next\n",
       "    // step of the generator.\n",
       "    outputElement.lastPromiseValue = value;\n",
       "    return next.value.response;\n",
       "  });\n",
       "}\n",
       "\n",
       "/**\n",
       " * Generator function which is called between each async step of the upload\n",
       " * process.\n",
       " * @param {string} inputId Element ID of the input file picker element.\n",
       " * @param {string} outputId Element ID of the output display.\n",
       " * @return {!Iterable<!Object>} Iterable of next steps.\n",
       " */\n",
       "function* uploadFilesStep(inputId, outputId) {\n",
       "  const inputElement = document.getElementById(inputId);\n",
       "  inputElement.disabled = false;\n",
       "\n",
       "  const outputElement = document.getElementById(outputId);\n",
       "  outputElement.innerHTML = '';\n",
       "\n",
       "  const pickedPromise = new Promise((resolve) => {\n",
       "    inputElement.addEventListener('change', (e) => {\n",
       "      resolve(e.target.files);\n",
       "    });\n",
       "  });\n",
       "\n",
       "  const cancel = document.createElement('button');\n",
       "  inputElement.parentElement.appendChild(cancel);\n",
       "  cancel.textContent = 'Cancel upload';\n",
       "  const cancelPromise = new Promise((resolve) => {\n",
       "    cancel.onclick = () => {\n",
       "      resolve(null);\n",
       "    };\n",
       "  });\n",
       "\n",
       "  // Wait for the user to pick the files.\n",
       "  const files = yield {\n",
       "    promise: Promise.race([pickedPromise, cancelPromise]),\n",
       "    response: {\n",
       "      action: 'starting',\n",
       "    }\n",
       "  };\n",
       "\n",
       "  cancel.remove();\n",
       "\n",
       "  // Disable the input element since further picks are not allowed.\n",
       "  inputElement.disabled = true;\n",
       "\n",
       "  if (!files) {\n",
       "    return {\n",
       "      response: {\n",
       "        action: 'complete',\n",
       "      }\n",
       "    };\n",
       "  }\n",
       "\n",
       "  for (const file of files) {\n",
       "    const li = document.createElement('li');\n",
       "    li.append(span(file.name, {fontWeight: 'bold'}));\n",
       "    li.append(span(\n",
       "        `(${file.type || 'n/a'}) - ${file.size} bytes, ` +\n",
       "        `last modified: ${\n",
       "            file.lastModifiedDate ? file.lastModifiedDate.toLocaleDateString() :\n",
       "                                    'n/a'} - `));\n",
       "    const percent = span('0% done');\n",
       "    li.appendChild(percent);\n",
       "\n",
       "    outputElement.appendChild(li);\n",
       "\n",
       "    const fileDataPromise = new Promise((resolve) => {\n",
       "      const reader = new FileReader();\n",
       "      reader.onload = (e) => {\n",
       "        resolve(e.target.result);\n",
       "      };\n",
       "      reader.readAsArrayBuffer(file);\n",
       "    });\n",
       "    // Wait for the data to be ready.\n",
       "    let fileData = yield {\n",
       "      promise: fileDataPromise,\n",
       "      response: {\n",
       "        action: 'continue',\n",
       "      }\n",
       "    };\n",
       "\n",
       "    // Use a chunked sending to avoid message size limits. See b/62115660.\n",
       "    let position = 0;\n",
       "    do {\n",
       "      const length = Math.min(fileData.byteLength - position, MAX_PAYLOAD_SIZE);\n",
       "      const chunk = new Uint8Array(fileData, position, length);\n",
       "      position += length;\n",
       "\n",
       "      const base64 = btoa(String.fromCharCode.apply(null, chunk));\n",
       "      yield {\n",
       "        response: {\n",
       "          action: 'append',\n",
       "          file: file.name,\n",
       "          data: base64,\n",
       "        },\n",
       "      };\n",
       "\n",
       "      let percentDone = fileData.byteLength === 0 ?\n",
       "          100 :\n",
       "          Math.round((position / fileData.byteLength) * 100);\n",
       "      percent.textContent = `${percentDone}% done`;\n",
       "\n",
       "    } while (position < fileData.byteLength);\n",
       "  }\n",
       "\n",
       "  // All done.\n",
       "  yield {\n",
       "    response: {\n",
       "      action: 'complete',\n",
       "    }\n",
       "  };\n",
       "}\n",
       "\n",
       "scope.google = scope.google || {};\n",
       "scope.google.colab = scope.google.colab || {};\n",
       "scope.google.colab._files = {\n",
       "  _uploadFiles,\n",
       "  _uploadFilesContinue,\n",
       "};\n",
       "})(self);\n",
       "</script> "
      ],
      "text/plain": [
       "<IPython.core.display.HTML object>"
      ]
     },
     "metadata": {},
     "output_type": "display_data"
    },
    {
     "name": "stdout",
     "output_type": "stream",
     "text": [
      "Saving kaggle.json to kaggle.json\n"
     ]
    },
    {
     "data": {
      "text/plain": [
       "{'kaggle.json': b'{\"username\":\"sivarangareddy\",\"key\":\"62ed8f6d9f3f2dfad8ec20fd5aaf9d05\"}'}"
      ]
     },
     "execution_count": 1,
     "metadata": {},
     "output_type": "execute_result"
    }
   ],
   "source": [
    "from google.colab import files\n",
    "files.upload()"
   ]
  },
  {
   "cell_type": "code",
   "execution_count": 2,
   "metadata": {
    "id": "V1kRwZZt9JGQ"
   },
   "outputs": [],
   "source": [
    "!mkdir ~/.kaggle\n",
    "!cp kaggle.json ~/.kaggle/\n",
    "!chmod 600 ~/.kaggle/kaggle.json"
   ]
  },
  {
   "cell_type": "code",
   "execution_count": 3,
   "metadata": {
    "colab": {
     "base_uri": "https://localhost:8080/"
    },
    "id": "ymk3G3jd9VoU",
    "outputId": "148d5908-a45d-45d3-9b49-95266eae160c"
   },
   "outputs": [
    {
     "name": "stdout",
     "output_type": "stream",
     "text": [
      "Mounted at /content/drive\n"
     ]
    }
   ],
   "source": [
    "from google.colab import drive\n",
    "drive.mount('/content/drive')"
   ]
  },
  {
   "cell_type": "code",
   "execution_count": 4,
   "metadata": {
    "colab": {
     "base_uri": "https://localhost:8080/"
    },
    "id": "3SbBpi37SI8B",
    "outputId": "83d7eaae-ca12-43ec-a614-7aaaf71f0bb1"
   },
   "outputs": [
    {
     "name": "stdout",
     "output_type": "stream",
     "text": [
      "Downloading dogs-vs-cats.zip to /content\n",
      "100% 810M/812M [00:35<00:00, 23.9MB/s]\n",
      "100% 812M/812M [00:35<00:00, 23.9MB/s]\n"
     ]
    }
   ],
   "source": [
    "!kaggle competitions download -c dogs-vs-cats"
   ]
  },
  {
   "cell_type": "code",
   "execution_count": 5,
   "metadata": {
    "id": "-v4pq56gSDGZ"
   },
   "outputs": [],
   "source": [
    "!unzip -qq dogs-vs-cats.zip"
   ]
  },
  {
   "cell_type": "code",
   "execution_count": 6,
   "metadata": {
    "id": "KsEIjT_kShPT"
   },
   "outputs": [],
   "source": [
    "!unzip -qq train.zip"
   ]
  },
  {
   "cell_type": "markdown",
   "metadata": {
    "id": "l_kjCGty9JGR"
   },
   "source": [
    "**Copying images to training, validation, and test directories**"
   ]
  },
  {
   "cell_type": "code",
   "execution_count": 7,
   "metadata": {
    "id": "_f3Z3fJQ9JGR"
   },
   "outputs": [],
   "source": [
    "import os, shutil, pathlib\n",
    "\n",
    "original_dir = pathlib.Path(\"train\")\n",
    "new_base_dir = pathlib.Path(\"cats_vs_dogs_small\")\n",
    "\n",
    "def make_subset(subset_name, start_index, end_index):\n",
    "    for category in (\"cat\", \"dog\"):\n",
    "        dir = new_base_dir / subset_name / category\n",
    "        os.makedirs(dir)\n",
    "        fnames = [f\"{category}.{i}.jpg\" for i in range(start_index, end_index)]\n",
    "        for fname in fnames:\n",
    "            shutil.copyfile(src=original_dir / fname,\n",
    "                            dst=dir / fname)\n",
    "\n",
    "make_subset(\"train\", start_index=0, end_index=1000)\n",
    "make_subset(\"validation\", start_index=1000, end_index=1500)\n",
    "make_subset(\"test\", start_index=1500, end_index=2000)"
   ]
  },
  {
   "cell_type": "markdown",
   "metadata": {
    "id": "2XtG4bQV9JGS"
   },
   "source": [
    "**Using `image_dataset_from_directory` to read images**"
   ]
  },
  {
   "cell_type": "code",
   "execution_count": 8,
   "metadata": {
    "colab": {
     "base_uri": "https://localhost:8080/"
    },
    "id": "n407F0iw9JGS",
    "outputId": "467eddd2-d506-4521-ea21-5bd8a8fb5cba"
   },
   "outputs": [
    {
     "name": "stdout",
     "output_type": "stream",
     "text": [
      "Found 2000 files belonging to 2 classes.\n",
      "Found 1000 files belonging to 2 classes.\n",
      "Found 1000 files belonging to 2 classes.\n"
     ]
    }
   ],
   "source": [
    "from tensorflow.keras.utils import image_dataset_from_directory\n",
    "\n",
    "train_dataset = image_dataset_from_directory(\n",
    "    new_base_dir / \"train\",\n",
    "    image_size=(180, 180),\n",
    "    batch_size=32)\n",
    "validation_dataset = image_dataset_from_directory(\n",
    "    new_base_dir / \"validation\",\n",
    "    image_size=(180, 180),\n",
    "    batch_size=32)\n",
    "test_dataset = image_dataset_from_directory(\n",
    "    new_base_dir / \"test\",\n",
    "    image_size=(180, 180),\n",
    "    batch_size=32)"
   ]
  },
  {
   "cell_type": "markdown",
   "metadata": {
    "id": "0Eqp7bOv9JGS"
   },
   "source": [
    "### Data preprocessing"
   ]
  },
  {
   "cell_type": "code",
   "execution_count": 9,
   "metadata": {
    "id": "roMTZWHE9JGS"
   },
   "outputs": [],
   "source": [
    "import numpy as np\n",
    "import tensorflow as tf\n",
    "random_numbers = np.random.normal(size=(1000, 16))\n",
    "dataset = tf.data.Dataset.from_tensor_slices(random_numbers)"
   ]
  },
  {
   "cell_type": "code",
   "execution_count": 10,
   "metadata": {
    "colab": {
     "base_uri": "https://localhost:8080/"
    },
    "id": "Xo-uuCQq9JGS",
    "outputId": "dcaa7140-1c98-48f9-edf0-f29a94695160"
   },
   "outputs": [
    {
     "name": "stdout",
     "output_type": "stream",
     "text": [
      "(16,)\n",
      "(16,)\n",
      "(16,)\n"
     ]
    }
   ],
   "source": [
    "for i, element in enumerate(dataset):\n",
    "    print(element.shape)\n",
    "    if i >= 2:\n",
    "        break"
   ]
  },
  {
   "cell_type": "code",
   "execution_count": 11,
   "metadata": {
    "colab": {
     "base_uri": "https://localhost:8080/"
    },
    "id": "lETV2d_39JGS",
    "outputId": "ef943532-a4e0-45d1-9bdb-e95eaeffffe8"
   },
   "outputs": [
    {
     "name": "stdout",
     "output_type": "stream",
     "text": [
      "(32, 16)\n",
      "(32, 16)\n",
      "(32, 16)\n"
     ]
    }
   ],
   "source": [
    "batched_dataset = dataset.batch(32)\n",
    "for i, element in enumerate(batched_dataset):\n",
    "    print(element.shape)\n",
    "    if i >= 2:\n",
    "        break"
   ]
  },
  {
   "cell_type": "code",
   "execution_count": 12,
   "metadata": {
    "colab": {
     "base_uri": "https://localhost:8080/"
    },
    "id": "1EWiiWuO9JGS",
    "outputId": "97e3587e-85ea-44c8-f193-3a15ccc80b9a"
   },
   "outputs": [
    {
     "name": "stdout",
     "output_type": "stream",
     "text": [
      "(4, 4)\n",
      "(4, 4)\n",
      "(4, 4)\n"
     ]
    }
   ],
   "source": [
    "reshaped_dataset = dataset.map(lambda x: tf.reshape(x, (4, 4)))\n",
    "for i, element in enumerate(reshaped_dataset):\n",
    "    print(element.shape)\n",
    "    if i >= 2:\n",
    "        break"
   ]
  },
  {
   "cell_type": "code",
   "execution_count": 13,
   "metadata": {
    "colab": {
     "base_uri": "https://localhost:8080/"
    },
    "id": "e6N1ONom9JGT",
    "outputId": "a24c82f6-3e48-4f82-e57e-5ff2dcef4689"
   },
   "outputs": [
    {
     "name": "stdout",
     "output_type": "stream",
     "text": [
      "data batch shape: (32, 180, 180, 3)\n",
      "labels batch shape: (32,)\n"
     ]
    }
   ],
   "source": [
    "for data_batch, labels_batch in train_dataset:\n",
    "    print(\"data batch shape:\", data_batch.shape)\n",
    "    print(\"labels batch shape:\", labels_batch.shape)\n",
    "    break"
   ]
  },
  {
   "cell_type": "markdown",
   "metadata": {
    "id": "rH5m5CaL9JGR"
   },
   "source": [
    "### Building the model"
   ]
  },
  {
   "cell_type": "markdown",
   "metadata": {
    "id": "cq5lJ3Su9JGR"
   },
   "source": [
    "**Instantiating a small convnet for dogs vs. cats classification**"
   ]
  },
  {
   "cell_type": "code",
   "execution_count": 14,
   "metadata": {
    "id": "QR8k_Bx89JGR"
   },
   "outputs": [],
   "source": [
    "from tensorflow import keras\n",
    "from tensorflow.keras import layers\n",
    "\n",
    "inputs = keras.Input(shape=(180, 180, 3))\n",
    "x = layers.Rescaling(1./255)(inputs)\n",
    "x = layers.Conv2D(filters=32, kernel_size=3, activation=\"relu\")(x)\n",
    "x = layers.MaxPooling2D(pool_size=2)(x)\n",
    "x = layers.Conv2D(filters=64, kernel_size=3, activation=\"relu\")(x)\n",
    "x = layers.MaxPooling2D(pool_size=2)(x)\n",
    "x = layers.Conv2D(filters=128, kernel_size=3, activation=\"relu\")(x)\n",
    "x = layers.MaxPooling2D(pool_size=2)(x)\n",
    "x = layers.Conv2D(filters=256, kernel_size=3, activation=\"relu\")(x)\n",
    "x = layers.MaxPooling2D(pool_size=2)(x)\n",
    "x = layers.Conv2D(filters=256, kernel_size=3, activation=\"relu\")(x)\n",
    "x = layers.Flatten()(x)\n",
    "x = layers.Dropout(0.5)(x)\n",
    "outputs = layers.Dense(1, activation=\"sigmoid\")(x)\n",
    "model = keras.Model(inputs=inputs, outputs=outputs)"
   ]
  },
  {
   "cell_type": "markdown",
   "metadata": {
    "id": "-zxjnKpm9JGS"
   },
   "source": [
    "**Configuring the model for training**"
   ]
  },
  {
   "cell_type": "code",
   "execution_count": 15,
   "metadata": {
    "id": "peAM0sKx9JGS"
   },
   "outputs": [],
   "source": [
    "model.compile(loss=\"binary_crossentropy\",\n",
    "              optimizer=\"adam\",\n",
    "              metrics=[\"accuracy\"])"
   ]
  },
  {
   "cell_type": "code",
   "execution_count": 16,
   "metadata": {
    "colab": {
     "base_uri": "https://localhost:8080/"
    },
    "id": "9GOVSPmL9JGS",
    "outputId": "5e7c61da-3575-4026-e6b3-9b98b8af2066"
   },
   "outputs": [
    {
     "name": "stdout",
     "output_type": "stream",
     "text": [
      "Model: \"model\"\n",
      "_________________________________________________________________\n",
      " Layer (type)                Output Shape              Param #   \n",
      "=================================================================\n",
      " input_1 (InputLayer)        [(None, 180, 180, 3)]     0         \n",
      "                                                                 \n",
      " rescaling (Rescaling)       (None, 180, 180, 3)       0         \n",
      "                                                                 \n",
      " conv2d (Conv2D)             (None, 178, 178, 32)      896       \n",
      "                                                                 \n",
      " max_pooling2d (MaxPooling2D  (None, 89, 89, 32)       0         \n",
      " )                                                               \n",
      "                                                                 \n",
      " conv2d_1 (Conv2D)           (None, 87, 87, 64)        18496     \n",
      "                                                                 \n",
      " max_pooling2d_1 (MaxPooling  (None, 43, 43, 64)       0         \n",
      " 2D)                                                             \n",
      "                                                                 \n",
      " conv2d_2 (Conv2D)           (None, 41, 41, 128)       73856     \n",
      "                                                                 \n",
      " max_pooling2d_2 (MaxPooling  (None, 20, 20, 128)      0         \n",
      " 2D)                                                             \n",
      "                                                                 \n",
      " conv2d_3 (Conv2D)           (None, 18, 18, 256)       295168    \n",
      "                                                                 \n",
      " max_pooling2d_3 (MaxPooling  (None, 9, 9, 256)        0         \n",
      " 2D)                                                             \n",
      "                                                                 \n",
      " conv2d_4 (Conv2D)           (None, 7, 7, 256)         590080    \n",
      "                                                                 \n",
      " flatten (Flatten)           (None, 12544)             0         \n",
      "                                                                 \n",
      " dropout (Dropout)           (None, 12544)             0         \n",
      "                                                                 \n",
      " dense (Dense)               (None, 1)                 12545     \n",
      "                                                                 \n",
      "=================================================================\n",
      "Total params: 991,041\n",
      "Trainable params: 991,041\n",
      "Non-trainable params: 0\n",
      "_________________________________________________________________\n"
     ]
    }
   ],
   "source": [
    "model.summary()"
   ]
  },
  {
   "cell_type": "markdown",
   "metadata": {
    "id": "0k5hvkRO9JGS"
   },
   "source": [
    "**Displaying the shapes of the data and labels yielded by the `Dataset`**"
   ]
  },
  {
   "cell_type": "markdown",
   "metadata": {
    "id": "pbmY_XER9JGT"
   },
   "source": [
    "**Fitting the model using a `Dataset`**"
   ]
  },
  {
   "cell_type": "code",
   "execution_count": 17,
   "metadata": {
    "colab": {
     "base_uri": "https://localhost:8080/"
    },
    "id": "z6aS9Sr29JGT",
    "outputId": "c21c4552-a147-4c18-d57c-4c1a9b68658f"
   },
   "outputs": [
    {
     "name": "stdout",
     "output_type": "stream",
     "text": [
      "Epoch 1/30\n",
      "63/63 [==============================] - 14s 81ms/step - loss: 0.6946 - accuracy: 0.5190 - val_loss: 0.6933 - val_accuracy: 0.5000\n",
      "Epoch 2/30\n",
      "63/63 [==============================] - 5s 70ms/step - loss: 0.6934 - accuracy: 0.5090 - val_loss: 0.6900 - val_accuracy: 0.5000\n",
      "Epoch 3/30\n",
      "63/63 [==============================] - 5s 70ms/step - loss: 0.6726 - accuracy: 0.5835 - val_loss: 0.6329 - val_accuracy: 0.6490\n",
      "Epoch 4/30\n",
      "63/63 [==============================] - 5s 71ms/step - loss: 0.6467 - accuracy: 0.6265 - val_loss: 0.6253 - val_accuracy: 0.6460\n",
      "Epoch 5/30\n",
      "63/63 [==============================] - 5s 69ms/step - loss: 0.6236 - accuracy: 0.6510 - val_loss: 0.6052 - val_accuracy: 0.6560\n",
      "Epoch 6/30\n",
      "63/63 [==============================] - 5s 69ms/step - loss: 0.6109 - accuracy: 0.6685 - val_loss: 0.5932 - val_accuracy: 0.6830\n",
      "Epoch 7/30\n",
      "63/63 [==============================] - 5s 69ms/step - loss: 0.5976 - accuracy: 0.6715 - val_loss: 0.5724 - val_accuracy: 0.7080\n",
      "Epoch 8/30\n",
      "63/63 [==============================] - 5s 70ms/step - loss: 0.5630 - accuracy: 0.7070 - val_loss: 0.5961 - val_accuracy: 0.6900\n",
      "Epoch 9/30\n",
      "63/63 [==============================] - 5s 69ms/step - loss: 0.5290 - accuracy: 0.7225 - val_loss: 0.5473 - val_accuracy: 0.7320\n",
      "Epoch 10/30\n",
      "63/63 [==============================] - 5s 70ms/step - loss: 0.4944 - accuracy: 0.7560 - val_loss: 0.5752 - val_accuracy: 0.7290\n",
      "Epoch 11/30\n",
      "63/63 [==============================] - 5s 69ms/step - loss: 0.4452 - accuracy: 0.7920 - val_loss: 0.5250 - val_accuracy: 0.7520\n",
      "Epoch 12/30\n",
      "63/63 [==============================] - 5s 68ms/step - loss: 0.4109 - accuracy: 0.8075 - val_loss: 0.5570 - val_accuracy: 0.7420\n",
      "Epoch 13/30\n",
      "63/63 [==============================] - 5s 70ms/step - loss: 0.3866 - accuracy: 0.8330 - val_loss: 0.5600 - val_accuracy: 0.7320\n",
      "Epoch 14/30\n",
      "63/63 [==============================] - 5s 69ms/step - loss: 0.3278 - accuracy: 0.8520 - val_loss: 0.6802 - val_accuracy: 0.7310\n",
      "Epoch 15/30\n",
      "63/63 [==============================] - 5s 69ms/step - loss: 0.2843 - accuracy: 0.8770 - val_loss: 0.7165 - val_accuracy: 0.7340\n",
      "Epoch 16/30\n",
      "63/63 [==============================] - 5s 69ms/step - loss: 0.2397 - accuracy: 0.9010 - val_loss: 0.6627 - val_accuracy: 0.7690\n",
      "Epoch 17/30\n",
      "63/63 [==============================] - 5s 70ms/step - loss: 0.1839 - accuracy: 0.9285 - val_loss: 0.7548 - val_accuracy: 0.7600\n",
      "Epoch 18/30\n",
      "63/63 [==============================] - 5s 69ms/step - loss: 0.1584 - accuracy: 0.9405 - val_loss: 0.7980 - val_accuracy: 0.7600\n",
      "Epoch 19/30\n",
      "63/63 [==============================] - 5s 69ms/step - loss: 0.1701 - accuracy: 0.9330 - val_loss: 0.7732 - val_accuracy: 0.7510\n",
      "Epoch 20/30\n",
      "63/63 [==============================] - 5s 69ms/step - loss: 0.1100 - accuracy: 0.9620 - val_loss: 0.7538 - val_accuracy: 0.7550\n",
      "Epoch 21/30\n",
      "63/63 [==============================] - 5s 71ms/step - loss: 0.0868 - accuracy: 0.9690 - val_loss: 0.9134 - val_accuracy: 0.7550\n",
      "Epoch 22/30\n",
      "63/63 [==============================] - 5s 69ms/step - loss: 0.0667 - accuracy: 0.9750 - val_loss: 0.8515 - val_accuracy: 0.7640\n",
      "Epoch 23/30\n",
      "63/63 [==============================] - 5s 69ms/step - loss: 0.0625 - accuracy: 0.9795 - val_loss: 0.9799 - val_accuracy: 0.7600\n",
      "Epoch 24/30\n",
      "63/63 [==============================] - 5s 70ms/step - loss: 0.0695 - accuracy: 0.9690 - val_loss: 1.0850 - val_accuracy: 0.7640\n",
      "Epoch 25/30\n",
      "63/63 [==============================] - 5s 70ms/step - loss: 0.0646 - accuracy: 0.9785 - val_loss: 1.0379 - val_accuracy: 0.7500\n",
      "Epoch 26/30\n",
      "63/63 [==============================] - 5s 69ms/step - loss: 0.0442 - accuracy: 0.9860 - val_loss: 0.9793 - val_accuracy: 0.7780\n",
      "Epoch 27/30\n",
      "63/63 [==============================] - 5s 70ms/step - loss: 0.0388 - accuracy: 0.9870 - val_loss: 1.0795 - val_accuracy: 0.7630\n",
      "Epoch 28/30\n",
      "63/63 [==============================] - 5s 70ms/step - loss: 0.0299 - accuracy: 0.9885 - val_loss: 1.2587 - val_accuracy: 0.7590\n",
      "Epoch 29/30\n",
      "63/63 [==============================] - 5s 69ms/step - loss: 0.0579 - accuracy: 0.9815 - val_loss: 1.1812 - val_accuracy: 0.7370\n",
      "Epoch 30/30\n",
      "63/63 [==============================] - 5s 70ms/step - loss: 0.0437 - accuracy: 0.9815 - val_loss: 1.1822 - val_accuracy: 0.7420\n"
     ]
    }
   ],
   "source": [
    "callbacks = [\n",
    "    keras.callbacks.ModelCheckpoint(\n",
    "        filepath=\"convnet_from_scratch.keras\",\n",
    "        save_best_only=True,\n",
    "        monitor=\"val_loss\")\n",
    "]\n",
    "history = model.fit(\n",
    "    train_dataset,\n",
    "    epochs=30,\n",
    "    validation_data=validation_dataset,\n",
    "    callbacks=callbacks)"
   ]
  },
  {
   "cell_type": "markdown",
   "metadata": {
    "id": "LOqVkQYo9JGT"
   },
   "source": [
    "**Displaying curves of loss and accuracy during training**"
   ]
  },
  {
   "cell_type": "code",
   "execution_count": 18,
   "metadata": {
    "colab": {
     "base_uri": "https://localhost:8080/",
     "height": 888
    },
    "id": "BXK4Y6TI9JGT",
    "outputId": "14765d86-96fc-486f-f10f-e5bc0d691b2a"
   },
   "outputs": [
    {
     "data": {
      "image/png": "[encoded data removed]",
      "text/plain": [
       "<Figure size 432x288 with 1 Axes>"
      ]
     },
     "metadata": {
      "needs_background": "light"
     },
     "output_type": "display_data"
    },
    {
     "data": {
      "text/plain": [
       "<Figure size 432x288 with 0 Axes>"
      ]
     },
     "metadata": {},
     "output_type": "display_data"
    },
    {
     "data": {
      "image/png": "[encoded data removed]",
      "text/plain": [
       "<Figure size 720x720 with 1 Axes>"
      ]
     },
     "metadata": {
      "needs_background": "light"
     },
     "output_type": "display_data"
    }
   ],
   "source": [
    "import matplotlib.pyplot as plt\n",
    "accuracy = history.history[\"accuracy\"]\n",
    "val_accuracy = history.history[\"val_accuracy\"]\n",
    "loss = history.history[\"loss\"]\n",
    "val_loss = history.history[\"val_loss\"]\n",
    "epochs = range(1, len(accuracy) + 1)\n",
    "plt.plot(epochs, accuracy, \"bo\", label=\"Training accuracy\")\n",
    "plt.plot(epochs, val_accuracy, \"b\", label=\"Validation accuracy\")\n",
    "plt.title(\"Training and validation accuracy\")\n",
    "plt.legend()\n",
    "plt.figure()\n",
    "plt.figure(figsize=(10, 10))\n",
    "plt.plot(epochs, loss, \"bo\", label=\"Training loss\")\n",
    "plt.plot(epochs, val_loss, \"b\", label=\"Validation loss\")\n",
    "plt.title(\"Training and validation loss\")\n",
    "plt.legend()\n",
    "plt.show()"
   ]
  },
  {
   "cell_type": "markdown",
   "metadata": {
    "id": "tvfqyOim9JGT"
   },
   "source": [
    "**Evaluating the model on the test set**"
   ]
  },
  {
   "cell_type": "code",
   "execution_count": 19,
   "metadata": {
    "colab": {
     "base_uri": "https://localhost:8080/"
    },
    "id": "etcXOeT49JGT",
    "outputId": "5d5ad9c8-7502-4fa8-c7ef-f3b9cdca202a"
   },
   "outputs": [
    {
     "name": "stdout",
     "output_type": "stream",
     "text": [
      "32/32 [==============================] - 2s 36ms/step - loss: 0.5491 - accuracy: 0.7390\n",
      "Test accuracy: 0.739\n"
     ]
    }
   ],
   "source": [
    "test_model = keras.models.load_model(\"convnet_from_scratch.keras\")\n",
    "test_loss, test_acc = test_model.evaluate(test_dataset)\n",
    "print(f\"Test accuracy: {test_acc:.3f}\")"
   ]
  },
  {
   "cell_type": "markdown",
   "metadata": {},
   "source": [
    "from the result we can see that \n",
    "we took the validation and train accuracy values from the epoch (26) where we can sudden drop in validation accuracy of 27 eppoach \n",
    "Test Accuracy - 73.9%\n",
    "Train Accuracy - 98.70%\n",
    "validation accuracy-76.30%\n",
    "all the above result are based on \n",
    "training sample  1000 \n",
    "valiadtion 500\n",
    "test 500"
   ]
  },
  {
   "cell_type": "markdown",
   "metadata": {
    "id": "TBDlLXXuMvkC"
   },
   "source": [
    "Q2. Increase your training sample size. You may pick any amount. Keep the validation and test samples the same as above. Optimize your network (again training from scratch). What performance did you achieve?"
   ]
  },
  {
   "cell_type": "markdown",
   "metadata": {
    "id": "bZAxui3f9JGT"
   },
   "source": [
    "### Using data augmentation"
   ]
  },
  {
   "cell_type": "markdown",
   "metadata": {
    "id": "zeWFPL2T9JGT"
   },
   "source": [
    "**Define a data augmentation stage to add to an image model**"
   ]
  },
  {
   "cell_type": "code",
   "execution_count": 20,
   "metadata": {
    "id": "ivx-uIazHAeR"
   },
   "outputs": [],
   "source": [
    "import os, shutil, pathlib\n",
    "\n",
    "shutil.rmtree(\"./cats_vs_dogs_small_Q2\", ignore_errors=True)\n",
    "\n",
    "original_dir = pathlib.Path(\"train\")\n",
    "new_base_dir = pathlib.Path(\"cats_vs_dogs_small_Q2\")\n",
    "\n",
    "def make_subset(subset_name, start_index, end_index):\n",
    "    for category in (\"cat\", \"dog\"):\n",
    "        dir = new_base_dir / subset_name / category\n",
    "        os.makedirs(dir)\n",
    "        fnames = [f\"{category}.{i}.jpg\" for i in range(start_index, end_index)]\n",
    "        for fname in fnames:\n",
    "            shutil.copyfile(src=original_dir / fname,\n",
    "                            dst=dir / fname)\n",
    "#Creating training, Test and validation sets.\n",
    "#Training has 1000 samples, test has 500 samples and validation has 500 samples.\n",
    "make_subset(\"train\", start_index=0, end_index=1500)\n",
    "make_subset(\"validation\", start_index=1500, end_index=2000)\n",
    "make_subset(\"test\", start_index=2000, end_index=2500)"
   ]
  },
  {
   "cell_type": "code",
   "execution_count": 21,
   "metadata": {
    "id": "vXUra5Go9JGT"
   },
   "outputs": [],
   "source": [
    "data_augmentation = keras.Sequential(\n",
    "    [\n",
    "        layers.RandomFlip(\"horizontal\"),\n",
    "        layers.RandomRotation(0.1),\n",
    "        layers.RandomZoom(0.2),\n",
    "    ]\n",
    ")"
   ]
  },
  {
   "cell_type": "markdown",
   "metadata": {
    "id": "t6krC_J29JGT"
   },
   "source": [
    "**Displaying some randomly augmented training images**"
   ]
  },
  {
   "cell_type": "code",
   "execution_count": 22,
   "metadata": {
    "colab": {
     "base_uri": "https://localhost:8080/",
     "height": 575
    },
    "id": "nnB6AQSp9JGU",
    "outputId": "24c435d7-b792-4e76-dcf6-e759714824bf"
   },
   "outputs": [
    {
     "data": {
      "image/png": "[encoded data removed]",
      "text/plain": [
       "<Figure size 720x720 with 9 Axes>"
      ]
     },
     "metadata": {
      "needs_background": "light"
     },
     "output_type": "display_data"
    }
   ],
   "source": [
    "plt.figure(figsize=(10, 10))\n",
    "for images, _ in train_dataset.take(1):\n",
    "    for i in range(9):\n",
    "        augmented_images = data_augmentation(images)\n",
    "        ax = plt.subplot(3, 3, i + 1)\n",
    "        plt.imshow(augmented_images[0].numpy().astype(\"uint8\"))\n",
    "        plt.axis(\"off\")"
   ]
  },
  {
   "cell_type": "markdown",
   "metadata": {
    "id": "vRnVXHxS9JGU"
   },
   "source": [
    "**Defining a new convnet that includes image augmentation and dropout**"
   ]
  },
  {
   "cell_type": "code",
   "execution_count": 23,
   "metadata": {
    "id": "oJfcs3nb9JGU"
   },
   "outputs": [],
   "source": [
    "inputs = keras.Input(shape=(180, 180, 3))\n",
    "x = data_augmentation(inputs)\n",
    "x = layers.Rescaling(1./255)(x)\n",
    "x = layers.Conv2D(filters=32, kernel_size=3, activation=\"relu\")(x)\n",
    "x = layers.MaxPooling2D(pool_size=2)(x)\n",
    "x = layers.Conv2D(filters=64, kernel_size=3, activation=\"relu\")(x)\n",
    "x = layers.MaxPooling2D(pool_size=2)(x)\n",
    "x = layers.Conv2D(filters=128, kernel_size=3, activation=\"relu\")(x)\n",
    "x = layers.MaxPooling2D(pool_size=2)(x)\n",
    "x = layers.Conv2D(filters=256, kernel_size=3, activation=\"relu\")(x)\n",
    "x = layers.MaxPooling2D(pool_size=2)(x)\n",
    "x = layers.Conv2D(filters=256, kernel_size=3, activation=\"relu\")(x)\n",
    "x = layers.Flatten()(x)\n",
    "x = layers.Dropout(0.5)(x)\n",
    "outputs = layers.Dense(1, activation=\"sigmoid\")(x)\n",
    "model = keras.Model(inputs=inputs, outputs=outputs)\n",
    "\n",
    "model.compile(loss=\"binary_crossentropy\",\n",
    "              optimizer=\"adam\",\n",
    "              metrics=[\"accuracy\"])"
   ]
  },
  {
   "cell_type": "markdown",
   "metadata": {
    "id": "0F76l31x9JGU"
   },
   "source": [
    "**Training the regularized convnet**"
   ]
  },
  {
   "cell_type": "code",
   "execution_count": 24,
   "metadata": {
    "colab": {
     "base_uri": "https://localhost:8080/"
    },
    "id": "p3IZt35E9JGU",
    "outputId": "601ba643-01e7-4e58-fb34-c655c831ce8f"
   },
   "outputs": [
    {
     "name": "stdout",
     "output_type": "stream",
     "text": [
      "Epoch 1/50\n",
      "63/63 [==============================] - 8s 103ms/step - loss: 0.6951 - accuracy: 0.4935 - val_loss: 0.6926 - val_accuracy: 0.5150\n",
      "Epoch 2/50\n",
      "63/63 [==============================] - 6s 92ms/step - loss: 0.6930 - accuracy: 0.5080 - val_loss: 0.6893 - val_accuracy: 0.5450\n",
      "Epoch 3/50\n",
      "63/63 [==============================] - 6s 94ms/step - loss: 0.6906 - accuracy: 0.5400 - val_loss: 0.6992 - val_accuracy: 0.5020\n",
      "Epoch 4/50\n",
      "63/63 [==============================] - 6s 92ms/step - loss: 0.6903 - accuracy: 0.5320 - val_loss: 0.6920 - val_accuracy: 0.5410\n",
      "Epoch 5/50\n",
      "63/63 [==============================] - 6s 93ms/step - loss: 0.6886 - accuracy: 0.5380 - val_loss: 0.6775 - val_accuracy: 0.5940\n",
      "Epoch 6/50\n",
      "63/63 [==============================] - 6s 93ms/step - loss: 0.6851 - accuracy: 0.5520 - val_loss: 0.6749 - val_accuracy: 0.5890\n",
      "Epoch 7/50\n",
      "63/63 [==============================] - 6s 93ms/step - loss: 0.6785 - accuracy: 0.5760 - val_loss: 0.6748 - val_accuracy: 0.5690\n",
      "Epoch 8/50\n",
      "63/63 [==============================] - 6s 90ms/step - loss: 0.6548 - accuracy: 0.6170 - val_loss: 0.6751 - val_accuracy: 0.5630\n",
      "Epoch 9/50\n",
      "63/63 [==============================] - 6s 91ms/step - loss: 0.6455 - accuracy: 0.6345 - val_loss: 0.6664 - val_accuracy: 0.5940\n",
      "Epoch 10/50\n",
      "63/63 [==============================] - 6s 95ms/step - loss: 0.6316 - accuracy: 0.6610 - val_loss: 0.6358 - val_accuracy: 0.6440\n",
      "Epoch 11/50\n",
      "63/63 [==============================] - 6s 98ms/step - loss: 0.6267 - accuracy: 0.6675 - val_loss: 0.6552 - val_accuracy: 0.6260\n",
      "Epoch 12/50\n",
      "63/63 [==============================] - 6s 93ms/step - loss: 0.6125 - accuracy: 0.6645 - val_loss: 0.6190 - val_accuracy: 0.6410\n",
      "Epoch 13/50\n",
      "63/63 [==============================] - 6s 94ms/step - loss: 0.6086 - accuracy: 0.6725 - val_loss: 0.5985 - val_accuracy: 0.6700\n",
      "Epoch 14/50\n",
      "63/63 [==============================] - 6s 90ms/step - loss: 0.5985 - accuracy: 0.6940 - val_loss: 0.6154 - val_accuracy: 0.6650\n",
      "Epoch 15/50\n",
      "63/63 [==============================] - 6s 91ms/step - loss: 0.5880 - accuracy: 0.6905 - val_loss: 0.6055 - val_accuracy: 0.6740\n",
      "Epoch 16/50\n",
      "63/63 [==============================] - 6s 98ms/step - loss: 0.5739 - accuracy: 0.7065 - val_loss: 0.5797 - val_accuracy: 0.6860\n",
      "Epoch 17/50\n",
      "63/63 [==============================] - 6s 92ms/step - loss: 0.5694 - accuracy: 0.7115 - val_loss: 0.5467 - val_accuracy: 0.7200\n",
      "Epoch 18/50\n",
      "63/63 [==============================] - 6s 91ms/step - loss: 0.5537 - accuracy: 0.7265 - val_loss: 0.5668 - val_accuracy: 0.7110\n",
      "Epoch 19/50\n",
      "63/63 [==============================] - 6s 92ms/step - loss: 0.5546 - accuracy: 0.7245 - val_loss: 0.5761 - val_accuracy: 0.7110\n",
      "Epoch 20/50\n",
      "63/63 [==============================] - 6s 91ms/step - loss: 0.5218 - accuracy: 0.7450 - val_loss: 0.6079 - val_accuracy: 0.6920\n",
      "Epoch 21/50\n",
      "63/63 [==============================] - 6s 93ms/step - loss: 0.5454 - accuracy: 0.7325 - val_loss: 0.5472 - val_accuracy: 0.7330\n",
      "Epoch 22/50\n",
      "63/63 [==============================] - 6s 93ms/step - loss: 0.5090 - accuracy: 0.7465 - val_loss: 0.5300 - val_accuracy: 0.7500\n",
      "Epoch 23/50\n",
      "63/63 [==============================] - 6s 94ms/step - loss: 0.4974 - accuracy: 0.7510 - val_loss: 0.5243 - val_accuracy: 0.7660\n",
      "Epoch 24/50\n",
      "63/63 [==============================] - 6s 93ms/step - loss: 0.4953 - accuracy: 0.7675 - val_loss: 0.5120 - val_accuracy: 0.7560\n",
      "Epoch 25/50\n",
      "63/63 [==============================] - 6s 93ms/step - loss: 0.4775 - accuracy: 0.7770 - val_loss: 0.5496 - val_accuracy: 0.7240\n",
      "Epoch 26/50\n",
      "63/63 [==============================] - 6s 93ms/step - loss: 0.4688 - accuracy: 0.7690 - val_loss: 0.4835 - val_accuracy: 0.7740\n",
      "Epoch 27/50\n",
      "63/63 [==============================] - 6s 93ms/step - loss: 0.4600 - accuracy: 0.7775 - val_loss: 0.4898 - val_accuracy: 0.7740\n",
      "Epoch 28/50\n",
      "63/63 [==============================] - 6s 93ms/step - loss: 0.4479 - accuracy: 0.7855 - val_loss: 0.5133 - val_accuracy: 0.7530\n",
      "Epoch 29/50\n",
      "63/63 [==============================] - 6s 95ms/step - loss: 0.4437 - accuracy: 0.7905 - val_loss: 0.4709 - val_accuracy: 0.7900\n",
      "Epoch 30/50\n",
      "63/63 [==============================] - 6s 93ms/step - loss: 0.4449 - accuracy: 0.7965 - val_loss: 0.5221 - val_accuracy: 0.7680\n",
      "Epoch 31/50\n",
      "63/63 [==============================] - 6s 92ms/step - loss: 0.4307 - accuracy: 0.8000 - val_loss: 0.5032 - val_accuracy: 0.7570\n",
      "Epoch 32/50\n",
      "63/63 [==============================] - 6s 94ms/step - loss: 0.4228 - accuracy: 0.8075 - val_loss: 0.4762 - val_accuracy: 0.7810\n",
      "Epoch 33/50\n",
      "63/63 [==============================] - 6s 93ms/step - loss: 0.4214 - accuracy: 0.8010 - val_loss: 0.4745 - val_accuracy: 0.7840\n",
      "Epoch 34/50\n",
      "63/63 [==============================] - 6s 92ms/step - loss: 0.4030 - accuracy: 0.8175 - val_loss: 0.4605 - val_accuracy: 0.7790\n",
      "Epoch 35/50\n",
      "63/63 [==============================] - 6s 91ms/step - loss: 0.3753 - accuracy: 0.8390 - val_loss: 0.4588 - val_accuracy: 0.8060\n",
      "Epoch 36/50\n",
      "63/63 [==============================] - 6s 94ms/step - loss: 0.3893 - accuracy: 0.8250 - val_loss: 0.4696 - val_accuracy: 0.7960\n",
      "Epoch 37/50\n",
      "63/63 [==============================] - 6s 94ms/step - loss: 0.3663 - accuracy: 0.8325 - val_loss: 0.4488 - val_accuracy: 0.8060\n",
      "Epoch 38/50\n",
      "63/63 [==============================] - 6s 94ms/step - loss: 0.3831 - accuracy: 0.8225 - val_loss: 0.5918 - val_accuracy: 0.7490\n",
      "Epoch 39/50\n",
      "63/63 [==============================] - 6s 90ms/step - loss: 0.3715 - accuracy: 0.8330 - val_loss: 0.4774 - val_accuracy: 0.8070\n",
      "Epoch 40/50\n",
      "63/63 [==============================] - 6s 93ms/step - loss: 0.3581 - accuracy: 0.8455 - val_loss: 0.4300 - val_accuracy: 0.8140\n",
      "Epoch 41/50\n",
      "63/63 [==============================] - 6s 91ms/step - loss: 0.3431 - accuracy: 0.8505 - val_loss: 0.4176 - val_accuracy: 0.8270\n",
      "Epoch 42/50\n",
      "63/63 [==============================] - 6s 92ms/step - loss: 0.3699 - accuracy: 0.8335 - val_loss: 0.5578 - val_accuracy: 0.7620\n",
      "Epoch 43/50\n",
      "63/63 [==============================] - 6s 92ms/step - loss: 0.3387 - accuracy: 0.8545 - val_loss: 0.4443 - val_accuracy: 0.8100\n",
      "Epoch 44/50\n",
      "63/63 [==============================] - 6s 93ms/step - loss: 0.3367 - accuracy: 0.8565 - val_loss: 0.4439 - val_accuracy: 0.8240\n",
      "Epoch 45/50\n",
      "63/63 [==============================] - 6s 93ms/step - loss: 0.3637 - accuracy: 0.8330 - val_loss: 0.4231 - val_accuracy: 0.8170\n",
      "Epoch 46/50\n",
      "63/63 [==============================] - 6s 91ms/step - loss: 0.3397 - accuracy: 0.8590 - val_loss: 0.4988 - val_accuracy: 0.7810\n",
      "Epoch 47/50\n",
      "63/63 [==============================] - 6s 92ms/step - loss: 0.3400 - accuracy: 0.8495 - val_loss: 0.3899 - val_accuracy: 0.8360\n",
      "Epoch 48/50\n",
      "63/63 [==============================] - 6s 93ms/step - loss: 0.3057 - accuracy: 0.8760 - val_loss: 0.4001 - val_accuracy: 0.8200\n",
      "Epoch 49/50\n",
      "63/63 [==============================] - 6s 93ms/step - loss: 0.3196 - accuracy: 0.8615 - val_loss: 0.4192 - val_accuracy: 0.8230\n",
      "Epoch 50/50\n",
      "63/63 [==============================] - 6s 92ms/step - loss: 0.3573 - accuracy: 0.8410 - val_loss: 0.4145 - val_accuracy: 0.8330\n"
     ]
    }
   ],
   "source": [
    "callbacks = [\n",
    "    keras.callbacks.ModelCheckpoint(\n",
    "        filepath=\"convnet_from_scratch_with_augmentation.keras\",\n",
    "        save_best_only=True,\n",
    "        monitor=\"val_loss\")\n",
    "]\n",
    "history = model.fit(\n",
    "    train_dataset,\n",
    "    epochs=50,\n",
    "    validation_data=validation_dataset,\n",
    "    callbacks=callbacks)"
   ]
  },
  {
   "cell_type": "markdown",
   "metadata": {
    "id": "qsBYfXAo9JGU"
   },
   "source": [
    "**Evaluating the model on the test set**"
   ]
  },
  {
   "cell_type": "code",
   "execution_count": 25,
   "metadata": {
    "colab": {
     "base_uri": "https://localhost:8080/"
    },
    "id": "OD_tH0Fh9JGU",
    "outputId": "06f48264-53b8-4258-f801-376b0dee56e3"
   },
   "outputs": [
    {
     "name": "stdout",
     "output_type": "stream",
     "text": [
      "32/32 [==============================] - 1s 34ms/step - loss: 0.4571 - accuracy: 0.8130\n",
      "Test accuracy: 0.813\n"
     ]
    }
   ],
   "source": [
    "test_model = keras.models.load_model(\n",
    "    \"convnet_from_scratch_with_augmentation.keras\")\n",
    "test_loss, test_acc = test_model.evaluate(test_dataset)\n",
    "print(f\"Test accuracy: {test_acc:.3f}\")"
   ]
  },
  {
   "cell_type": "markdown",
   "metadata": {},
   "source": [
    "# from the result we can see that \n",
    "we took the validation and train accuracy values from the epoch (48) where we can sudden drop in validation accuracy of 49 eppoach\n",
    "\n",
    "Test Accuracy - 81.30\n",
    "Train Accuracy - 87.60\n",
    "validation accuracy-82.0\n",
    "all the above result are based on \n",
    "training sample  1500 \n",
    "valiadtion 500\n",
    "test 500\n"
   ]
  },
  {
   "cell_type": "markdown",
   "metadata": {},
   "source": [
    " from the above result we can say that we got  better results from earlier due to following reasons\n",
    "\n",
    "1.we have increased the training data points from 1000 to 1500\n",
    "\n",
    "2.since using of data augmentation  we are able to redudce the overfit if we see earlier we got train accuracy as 97% but using of data augmentation it able to reduce overfit ended up with an % of 87%\n",
    "\n",
    "3.moreover data augmentation also helped to generalise the model with better accuracy \n"
   ]
  },
  {
   "cell_type": "markdown",
   "metadata": {
    "id": "tQnK4rOZJtIO"
   },
   "source": [
    "Q3. Now change your training sample so that you achieve better performance than those from Steps 1 and 2. This sample size may be larger, or smaller than those in the previous steps. The objective is to find the ideal training sample size to get best prediction results."
   ]
  },
  {
   "cell_type": "markdown",
   "metadata": {
    "id": "hp88ejVVJ234"
   },
   "source": [
    "Increasing the training sample to 2000, keeping the Validation and test sets the same as before(500 samples)"
   ]
  },
  {
   "cell_type": "code",
   "execution_count": 26,
   "metadata": {
    "id": "iO5JnzVxJYrb"
   },
   "outputs": [],
   "source": [
    "original_dir = pathlib.Path(\"train\")\n",
    "new_base_dir = pathlib.Path(\"cats_vs_dogs_small_Q3\")\n",
    "\n",
    "def make_subset(subset_name, start_index, end_index):\n",
    "    for category in (\"cat\", \"dog\"):\n",
    "        dir = new_base_dir / subset_name / category\n",
    "        os.makedirs(dir)\n",
    "        fnames = [f\"{category}.{i}.jpg\" for i in range(start_index, end_index)]\n",
    "        for fname in fnames:\n",
    "            shutil.copyfile(src=original_dir / fname,\n",
    "                            dst=dir / fname)\n",
    "#Creating training, Test and validation sets.\n",
    "#Training has 2000 samples, test has 500 samples and validation has 500 samples.\n",
    "make_subset(\"train\", start_index=0, end_index=2000)\n",
    "make_subset(\"validation\", start_index=2000, end_index=2500)\n",
    "make_subset(\"test\", start_index=2500, end_index=3000)"
   ]
  },
  {
   "cell_type": "markdown",
   "metadata": {
    "id": "57Qh5ym4KFha"
   },
   "source": [
    "Defining a new convnet with increased training samples,image augmentation and dropout"
   ]
  },
  {
   "cell_type": "code",
   "execution_count": 27,
   "metadata": {
    "id": "XE8ZN07YKFE3"
   },
   "outputs": [],
   "source": [
    "inputs = keras.Input(shape=(180, 180, 3))\n",
    "x = data_augmentation(inputs)\n",
    "x = layers.Rescaling(1./255)(x)\n",
    "x = layers.Conv2D(filters=32, kernel_size=3, activation=\"relu\")(x)\n",
    "x = layers.MaxPooling2D(pool_size=2)(x)\n",
    "x = layers.Conv2D(filters=64, kernel_size=3, activation=\"relu\")(x)\n",
    "x = layers.MaxPooling2D(pool_size=2)(x)\n",
    "x = layers.Conv2D(filters=128, kernel_size=3, activation=\"relu\")(x)\n",
    "x = layers.MaxPooling2D(pool_size=2)(x)\n",
    "x = layers.Conv2D(filters=256, kernel_size=3, activation=\"relu\")(x)\n",
    "x = layers.MaxPooling2D(pool_size=2)(x)\n",
    "x = layers.Conv2D(filters=256, kernel_size=3, activation=\"relu\")(x)\n",
    "x = layers.Flatten()(x)\n",
    "x = layers.Dropout(0.5)(x)\n",
    "outputs = layers.Dense(1, activation=\"sigmoid\")(x)\n",
    "model = keras.Model(inputs=inputs, outputs=outputs)\n",
    "\n",
    "model.compile(loss=\"binary_crossentropy\",\n",
    "              optimizer=\"adam\",\n",
    "              metrics=[\"accuracy\"])"
   ]
  },
  {
   "cell_type": "code",
   "execution_count": 28,
   "metadata": {
    "colab": {
     "base_uri": "https://localhost:8080/"
    },
    "id": "HRsfB0HvJYen",
    "outputId": "7699a7d5-5a81-4502-f74b-34d45e6a9205"
   },
   "outputs": [
    {
     "name": "stdout",
     "output_type": "stream",
     "text": [
      "Epoch 1/50\n",
      "63/63 [==============================] - 8s 103ms/step - loss: 0.6943 - accuracy: 0.5285 - val_loss: 0.6896 - val_accuracy: 0.5910\n",
      "Epoch 2/50\n",
      "63/63 [==============================] - 6s 91ms/step - loss: 0.6940 - accuracy: 0.5045 - val_loss: 0.6917 - val_accuracy: 0.5310\n",
      "Epoch 3/50\n",
      "63/63 [==============================] - 6s 93ms/step - loss: 0.6879 - accuracy: 0.5415 - val_loss: 0.6715 - val_accuracy: 0.5760\n",
      "Epoch 4/50\n",
      "63/63 [==============================] - 6s 92ms/step - loss: 0.6724 - accuracy: 0.6010 - val_loss: 0.6716 - val_accuracy: 0.5880\n",
      "Epoch 5/50\n",
      "63/63 [==============================] - 6s 94ms/step - loss: 0.6481 - accuracy: 0.6380 - val_loss: 0.6610 - val_accuracy: 0.6110\n",
      "Epoch 6/50\n",
      "63/63 [==============================] - 6s 94ms/step - loss: 0.6428 - accuracy: 0.6365 - val_loss: 0.6351 - val_accuracy: 0.6470\n",
      "Epoch 7/50\n",
      "63/63 [==============================] - 6s 96ms/step - loss: 0.6134 - accuracy: 0.6640 - val_loss: 0.6149 - val_accuracy: 0.6470\n",
      "Epoch 8/50\n",
      "63/63 [==============================] - 6s 94ms/step - loss: 0.6090 - accuracy: 0.6870 - val_loss: 0.5925 - val_accuracy: 0.6900\n",
      "Epoch 9/50\n",
      "63/63 [==============================] - 6s 94ms/step - loss: 0.5901 - accuracy: 0.6930 - val_loss: 0.5915 - val_accuracy: 0.6890\n",
      "Epoch 10/50\n",
      "63/63 [==============================] - 6s 95ms/step - loss: 0.5748 - accuracy: 0.7055 - val_loss: 0.5904 - val_accuracy: 0.6810\n",
      "Epoch 11/50\n",
      "63/63 [==============================] - 6s 93ms/step - loss: 0.5756 - accuracy: 0.7100 - val_loss: 0.5755 - val_accuracy: 0.6840\n",
      "Epoch 12/50\n",
      "63/63 [==============================] - 6s 91ms/step - loss: 0.5527 - accuracy: 0.7210 - val_loss: 0.5700 - val_accuracy: 0.7020\n",
      "Epoch 13/50\n",
      "63/63 [==============================] - 6s 94ms/step - loss: 0.5356 - accuracy: 0.7305 - val_loss: 0.5368 - val_accuracy: 0.7230\n",
      "Epoch 14/50\n",
      "63/63 [==============================] - 6s 91ms/step - loss: 0.5418 - accuracy: 0.7330 - val_loss: 0.5529 - val_accuracy: 0.7070\n",
      "Epoch 15/50\n",
      "63/63 [==============================] - 6s 93ms/step - loss: 0.5581 - accuracy: 0.7310 - val_loss: 0.5683 - val_accuracy: 0.6910\n",
      "Epoch 16/50\n",
      "63/63 [==============================] - 6s 91ms/step - loss: 0.5108 - accuracy: 0.7510 - val_loss: 0.5208 - val_accuracy: 0.7400\n",
      "Epoch 17/50\n",
      "63/63 [==============================] - 6s 92ms/step - loss: 0.5122 - accuracy: 0.7560 - val_loss: 0.5338 - val_accuracy: 0.7340\n",
      "Epoch 18/50\n",
      "63/63 [==============================] - 6s 90ms/step - loss: 0.5118 - accuracy: 0.7510 - val_loss: 0.5307 - val_accuracy: 0.7230\n",
      "Epoch 19/50\n",
      "63/63 [==============================] - 6s 92ms/step - loss: 0.4850 - accuracy: 0.7725 - val_loss: 0.5451 - val_accuracy: 0.7290\n",
      "Epoch 20/50\n",
      "63/63 [==============================] - 6s 95ms/step - loss: 0.4852 - accuracy: 0.7565 - val_loss: 0.5087 - val_accuracy: 0.7520\n",
      "Epoch 21/50\n",
      "63/63 [==============================] - 6s 92ms/step - loss: 0.4850 - accuracy: 0.7660 - val_loss: 0.5199 - val_accuracy: 0.7420\n",
      "Epoch 22/50\n",
      "63/63 [==============================] - 6s 94ms/step - loss: 0.4612 - accuracy: 0.7865 - val_loss: 0.4963 - val_accuracy: 0.7520\n",
      "Epoch 23/50\n",
      "63/63 [==============================] - 6s 92ms/step - loss: 0.4681 - accuracy: 0.7735 - val_loss: 0.4725 - val_accuracy: 0.7670\n",
      "Epoch 24/50\n",
      "63/63 [==============================] - 6s 93ms/step - loss: 0.4497 - accuracy: 0.7930 - val_loss: 0.4534 - val_accuracy: 0.7970\n",
      "Epoch 25/50\n",
      "63/63 [==============================] - 6s 92ms/step - loss: 0.4425 - accuracy: 0.7880 - val_loss: 0.4581 - val_accuracy: 0.7930\n",
      "Epoch 26/50\n",
      "63/63 [==============================] - 6s 92ms/step - loss: 0.4264 - accuracy: 0.8110 - val_loss: 0.4266 - val_accuracy: 0.8120\n",
      "Epoch 27/50\n",
      "63/63 [==============================] - 6s 93ms/step - loss: 0.4144 - accuracy: 0.8180 - val_loss: 0.4214 - val_accuracy: 0.8060\n",
      "Epoch 28/50\n",
      "63/63 [==============================] - 6s 93ms/step - loss: 0.4054 - accuracy: 0.8150 - val_loss: 0.4654 - val_accuracy: 0.7880\n",
      "Epoch 29/50\n",
      "63/63 [==============================] - 6s 96ms/step - loss: 0.4008 - accuracy: 0.8195 - val_loss: 0.4198 - val_accuracy: 0.8190\n",
      "Epoch 30/50\n",
      "63/63 [==============================] - 6s 93ms/step - loss: 0.3929 - accuracy: 0.8300 - val_loss: 0.4271 - val_accuracy: 0.8050\n",
      "Epoch 31/50\n",
      "63/63 [==============================] - 6s 92ms/step - loss: 0.3930 - accuracy: 0.8210 - val_loss: 0.4006 - val_accuracy: 0.8150\n",
      "Epoch 32/50\n",
      "63/63 [==============================] - 6s 94ms/step - loss: 0.3909 - accuracy: 0.8190 - val_loss: 0.4106 - val_accuracy: 0.8140\n",
      "Epoch 33/50\n",
      "63/63 [==============================] - 6s 91ms/step - loss: 0.3702 - accuracy: 0.8385 - val_loss: 0.4177 - val_accuracy: 0.8160\n",
      "Epoch 34/50\n",
      "63/63 [==============================] - 6s 91ms/step - loss: 0.3909 - accuracy: 0.8155 - val_loss: 0.4069 - val_accuracy: 0.8160\n",
      "Epoch 35/50\n",
      "63/63 [==============================] - 6s 92ms/step - loss: 0.3389 - accuracy: 0.8500 - val_loss: 0.4690 - val_accuracy: 0.7840\n",
      "Epoch 36/50\n",
      "63/63 [==============================] - 6s 91ms/step - loss: 0.3518 - accuracy: 0.8390 - val_loss: 0.4374 - val_accuracy: 0.8080\n",
      "Epoch 37/50\n",
      "63/63 [==============================] - 6s 91ms/step - loss: 0.3316 - accuracy: 0.8460 - val_loss: 0.4116 - val_accuracy: 0.8260\n",
      "Epoch 38/50\n",
      "63/63 [==============================] - 6s 93ms/step - loss: 0.3324 - accuracy: 0.8630 - val_loss: 0.4095 - val_accuracy: 0.8080\n",
      "Epoch 39/50\n",
      "63/63 [==============================] - 6s 92ms/step - loss: 0.3636 - accuracy: 0.8365 - val_loss: 0.4189 - val_accuracy: 0.8180\n",
      "Epoch 40/50\n",
      "63/63 [==============================] - 6s 93ms/step - loss: 0.3215 - accuracy: 0.8630 - val_loss: 0.4016 - val_accuracy: 0.8310\n",
      "Epoch 41/50\n",
      "63/63 [==============================] - 6s 93ms/step - loss: 0.3048 - accuracy: 0.8665 - val_loss: 0.4176 - val_accuracy: 0.8280\n",
      "Epoch 42/50\n",
      "63/63 [==============================] - 6s 92ms/step - loss: 0.3004 - accuracy: 0.8685 - val_loss: 0.4025 - val_accuracy: 0.8270\n",
      "Epoch 43/50\n",
      "63/63 [==============================] - 6s 92ms/step - loss: 0.3227 - accuracy: 0.8645 - val_loss: 0.3913 - val_accuracy: 0.8350\n",
      "Epoch 44/50\n",
      "63/63 [==============================] - 6s 95ms/step - loss: 0.2913 - accuracy: 0.8720 - val_loss: 0.3800 - val_accuracy: 0.8530\n",
      "Epoch 45/50\n",
      "63/63 [==============================] - 6s 92ms/step - loss: 0.2742 - accuracy: 0.8745 - val_loss: 0.3911 - val_accuracy: 0.8340\n",
      "Epoch 46/50\n",
      "63/63 [==============================] - 6s 91ms/step - loss: 0.3014 - accuracy: 0.8675 - val_loss: 0.3614 - val_accuracy: 0.8410\n",
      "Epoch 47/50\n",
      "63/63 [==============================] - 6s 92ms/step - loss: 0.2795 - accuracy: 0.8800 - val_loss: 0.4037 - val_accuracy: 0.8400\n",
      "Epoch 48/50\n",
      "63/63 [==============================] - 6s 93ms/step - loss: 0.2634 - accuracy: 0.8920 - val_loss: 0.3566 - val_accuracy: 0.8460\n",
      "Epoch 49/50\n",
      "63/63 [==============================] - 6s 92ms/step - loss: 0.2687 - accuracy: 0.8900 - val_loss: 0.3928 - val_accuracy: 0.8450\n",
      "Epoch 50/50\n",
      "63/63 [==============================] - 6s 91ms/step - loss: 0.2319 - accuracy: 0.9060 - val_loss: 0.4352 - val_accuracy: 0.8430\n"
     ]
    }
   ],
   "source": [
    "callbacks = [\n",
    "    keras.callbacks.ModelCheckpoint(\n",
    "        filepath=\"convnet_from_scratch_with_augmentation1.keras\",\n",
    "        save_best_only=True,\n",
    "        monitor=\"val_loss\")\n",
    "]\n",
    "history = model.fit(\n",
    "    train_dataset,\n",
    "    epochs=50,\n",
    "    validation_data=validation_dataset,\n",
    "    callbacks=callbacks)"
   ]
  },
  {
   "cell_type": "code",
   "execution_count": 29,
   "metadata": {
    "colab": {
     "base_uri": "https://localhost:8080/"
    },
    "id": "8TiEx00lJYP0",
    "outputId": "35b0a223-93c2-42a2-ba38-27681cc5ac6e"
   },
   "outputs": [
    {
     "name": "stdout",
     "output_type": "stream",
     "text": [
      "32/32 [==============================] - 2s 35ms/step - loss: 0.4262 - accuracy: 0.8080\n",
      "Test accuracy: 0.808\n"
     ]
    }
   ],
   "source": [
    "test_model = keras.models.load_model(\n",
    "    \"convnet_from_scratch_with_augmentation1.keras\")\n",
    "test_loss, test_acc = test_model.evaluate(test_dataset)\n",
    "print(f\"Test accuracy: {test_acc:.3f}\")"
   ]
  },
  {
   "cell_type": "markdown",
   "metadata": {},
   "source": [
    "we took the validation and train accuracy values from the epoch (44) where we can sudden drop in validation accuracy of 45 eppoach\n",
    "\n",
    "Test Accuracy - 80.80\n",
    "Train Accuracy - 87.20\n",
    "validation accuracy-85.30\n",
    "all the above result are based on \n",
    "training sample  2000\n",
    "valiadtion 500\n",
    "test 500"
   ]
  },
  {
   "cell_type": "markdown",
   "metadata": {},
   "source": [
    "As we know data augmentation prevents the model from overfitting. some augmentation combinations can actually lead to underfitting  Moreover, the model is not able to learn as much information to give accurate predictions which, again leads to reduce the accuracy from this we can say that same thing  \n",
    "\n",
    "Eevnthough we have increased the data points with data augmentation we still not able to get the best result compared to earlier "
   ]
  },
  {
   "cell_type": "markdown",
   "metadata": {
    "id": "T87sjIoVKWQk"
   },
   "source": [
    "Q4. Repeat Steps 1-3, but now using a pretrained network. The sample sizes you use in Steps 2 and 3 for the pretrained network may be the same or different from those using the network where you trained from scratch. Again, use any and all optimization techniques to get best performance."
   ]
  },
  {
   "cell_type": "markdown",
   "metadata": {
    "id": "fO6uvVrv9JGU"
   },
   "source": [
    "## Leveraging a pretrained model"
   ]
  },
  {
   "cell_type": "markdown",
   "metadata": {
    "id": "2vhqvCeT9JGU"
   },
   "source": [
    "### Feature extraction with a pretrained model"
   ]
  },
  {
   "cell_type": "markdown",
   "metadata": {
    "id": "_czQtA259JGU"
   },
   "source": [
    "**Instantiating the VGG16 convolutional base**"
   ]
  },
  {
   "cell_type": "code",
   "execution_count": 30,
   "metadata": {
    "colab": {
     "base_uri": "https://localhost:8080/"
    },
    "id": "SmoI5Xud9JGU",
    "outputId": "d40b585f-556d-4d7f-db46-625ed6846a46"
   },
   "outputs": [
    {
     "name": "stdout",
     "output_type": "stream",
     "text": [
      "Downloading data from https://storage.googleapis.com/tensorflow/keras-applications/vgg16/vgg16_weights_tf_dim_ordering_tf_kernels_notop.h5\n",
      "58889256/58889256 [==============================] - 3s 0us/step\n"
     ]
    }
   ],
   "source": [
    "conv_base = keras.applications.vgg16.VGG16(\n",
    "    weights=\"imagenet\",\n",
    "    include_top=False,\n",
    "    input_shape=(180, 180, 3))"
   ]
  },
  {
   "cell_type": "code",
   "execution_count": 31,
   "metadata": {
    "colab": {
     "base_uri": "https://localhost:8080/"
    },
    "id": "4dciL-rT9JGV",
    "outputId": "552e5682-2bee-44d3-a286-3075f95944e7"
   },
   "outputs": [
    {
     "name": "stdout",
     "output_type": "stream",
     "text": [
      "Model: \"vgg16\"\n",
      "_________________________________________________________________\n",
      " Layer (type)                Output Shape              Param #   \n",
      "=================================================================\n",
      " input_4 (InputLayer)        [(None, 180, 180, 3)]     0         \n",
      "                                                                 \n",
      " block1_conv1 (Conv2D)       (None, 180, 180, 64)      1792      \n",
      "                                                                 \n",
      " block1_conv2 (Conv2D)       (None, 180, 180, 64)      36928     \n",
      "                                                                 \n",
      " block1_pool (MaxPooling2D)  (None, 90, 90, 64)        0         \n",
      "                                                                 \n",
      " block2_conv1 (Conv2D)       (None, 90, 90, 128)       73856     \n",
      "                                                                 \n",
      " block2_conv2 (Conv2D)       (None, 90, 90, 128)       147584    \n",
      "                                                                 \n",
      " block2_pool (MaxPooling2D)  (None, 45, 45, 128)       0         \n",
      "                                                                 \n",
      " block3_conv1 (Conv2D)       (None, 45, 45, 256)       295168    \n",
      "                                                                 \n",
      " block3_conv2 (Conv2D)       (None, 45, 45, 256)       590080    \n",
      "                                                                 \n",
      " block3_conv3 (Conv2D)       (None, 45, 45, 256)       590080    \n",
      "                                                                 \n",
      " block3_pool (MaxPooling2D)  (None, 22, 22, 256)       0         \n",
      "                                                                 \n",
      " block4_conv1 (Conv2D)       (None, 22, 22, 512)       1180160   \n",
      "                                                                 \n",
      " block4_conv2 (Conv2D)       (None, 22, 22, 512)       2359808   \n",
      "                                                                 \n",
      " block4_conv3 (Conv2D)       (None, 22, 22, 512)       2359808   \n",
      "                                                                 \n",
      " block4_pool (MaxPooling2D)  (None, 11, 11, 512)       0         \n",
      "                                                                 \n",
      " block5_conv1 (Conv2D)       (None, 11, 11, 512)       2359808   \n",
      "                                                                 \n",
      " block5_conv2 (Conv2D)       (None, 11, 11, 512)       2359808   \n",
      "                                                                 \n",
      " block5_conv3 (Conv2D)       (None, 11, 11, 512)       2359808   \n",
      "                                                                 \n",
      " block5_pool (MaxPooling2D)  (None, 5, 5, 512)         0         \n",
      "                                                                 \n",
      "=================================================================\n",
      "Total params: 14,714,688\n",
      "Trainable params: 14,714,688\n",
      "Non-trainable params: 0\n",
      "_________________________________________________________________\n"
     ]
    }
   ],
   "source": [
    "conv_base.summary()"
   ]
  },
  {
   "cell_type": "markdown",
   "metadata": {
    "id": "mo_xs7yh9JGV"
   },
   "source": [
    "#### Fast feature extraction without data augmentation"
   ]
  },
  {
   "cell_type": "markdown",
   "metadata": {
    "id": "iMPwq3Ml9JGV"
   },
   "source": [
    "**Extracting the VGG16 features and corresponding labels**"
   ]
  },
  {
   "cell_type": "code",
   "execution_count": 32,
   "metadata": {
    "colab": {
     "base_uri": "https://localhost:8080/"
    },
    "id": "MeF2CfCv9JGV",
    "outputId": "c8374dcf-5ab7-4cda-8902-1f7ea7204f04"
   },
   "outputs": [
    {
     "name": "stdout",
     "output_type": "stream",
     "text": [
      "1/1 [==============================] - 2s 2s/step\n",
      "1/1 [==============================] - 0s 26ms/step\n",
      "1/1 [==============================] - 0s 35ms/step\n",
      "1/1 [==============================] - 0s 24ms/step\n",
      "1/1 [==============================] - 0s 29ms/step\n",
      "1/1 [==============================] - 0s 25ms/step\n",
      "1/1 [==============================] - 0s 28ms/step\n",
      "1/1 [==============================] - 0s 27ms/step\n",
      "1/1 [==============================] - 0s 30ms/step\n",
      "1/1 [==============================] - 0s 30ms/step\n",
      "1/1 [==============================] - 0s 27ms/step\n",
      "1/1 [==============================] - 0s 30ms/step\n",
      "1/1 [==============================] - 0s 24ms/step\n",
      "1/1 [==============================] - 0s 24ms/step\n",
      "1/1 [==============================] - 0s 24ms/step\n",
      "1/1 [==============================] - 0s 22ms/step\n",
      "1/1 [==============================] - 0s 23ms/step\n",
      "1/1 [==============================] - 0s 23ms/step\n",
      "1/1 [==============================] - 0s 27ms/step\n",
      "1/1 [==============================] - 0s 29ms/step\n",
      "1/1 [==============================] - 0s 25ms/step\n",
      "1/1 [==============================] - 0s 24ms/step\n",
      "1/1 [==============================] - 0s 21ms/step\n",
      "1/1 [==============================] - 0s 25ms/step\n",
      "1/1 [==============================] - 0s 27ms/step\n",
      "1/1 [==============================] - 0s 27ms/step\n",
      "1/1 [==============================] - 0s 22ms/step\n",
      "1/1 [==============================] - 0s 21ms/step\n",
      "1/1 [==============================] - 0s 29ms/step\n",
      "1/1 [==============================] - 0s 21ms/step\n",
      "1/1 [==============================] - 0s 28ms/step\n",
      "1/1 [==============================] - 0s 29ms/step\n",
      "1/1 [==============================] - 0s 24ms/step\n",
      "1/1 [==============================] - 0s 23ms/step\n",
      "1/1 [==============================] - 0s 22ms/step\n",
      "1/1 [==============================] - 0s 33ms/step\n",
      "1/1 [==============================] - 0s 24ms/step\n",
      "1/1 [==============================] - 0s 29ms/step\n",
      "1/1 [==============================] - 0s 26ms/step\n",
      "1/1 [==============================] - 0s 21ms/step\n",
      "1/1 [==============================] - 0s 26ms/step\n",
      "1/1 [==============================] - 0s 25ms/step\n",
      "1/1 [==============================] - 0s 27ms/step\n",
      "1/1 [==============================] - 0s 22ms/step\n",
      "1/1 [==============================] - 0s 23ms/step\n",
      "1/1 [==============================] - 0s 25ms/step\n",
      "1/1 [==============================] - 0s 28ms/step\n",
      "1/1 [==============================] - 0s 22ms/step\n",
      "1/1 [==============================] - 0s 21ms/step\n",
      "1/1 [==============================] - 0s 23ms/step\n",
      "1/1 [==============================] - 0s 23ms/step\n",
      "1/1 [==============================] - 0s 22ms/step\n",
      "1/1 [==============================] - 0s 27ms/step\n",
      "1/1 [==============================] - 0s 27ms/step\n",
      "1/1 [==============================] - 0s 24ms/step\n",
      "1/1 [==============================] - 0s 24ms/step\n",
      "1/1 [==============================] - 0s 22ms/step\n",
      "1/1 [==============================] - 0s 29ms/step\n",
      "1/1 [==============================] - 0s 22ms/step\n",
      "1/1 [==============================] - 0s 22ms/step\n",
      "1/1 [==============================] - 0s 23ms/step\n",
      "1/1 [==============================] - 0s 27ms/step\n",
      "1/1 [==============================] - 1s 1s/step\n",
      "1/1 [==============================] - 0s 29ms/step\n",
      "1/1 [==============================] - 0s 24ms/step\n",
      "1/1 [==============================] - 0s 22ms/step\n",
      "1/1 [==============================] - 0s 27ms/step\n",
      "1/1 [==============================] - 0s 21ms/step\n",
      "1/1 [==============================] - 0s 23ms/step\n",
      "1/1 [==============================] - 0s 21ms/step\n",
      "1/1 [==============================] - 0s 24ms/step\n",
      "1/1 [==============================] - 0s 26ms/step\n",
      "1/1 [==============================] - 0s 26ms/step\n",
      "1/1 [==============================] - 0s 21ms/step\n",
      "1/1 [==============================] - 0s 22ms/step\n",
      "1/1 [==============================] - 0s 32ms/step\n",
      "1/1 [==============================] - 0s 23ms/step\n",
      "1/1 [==============================] - 0s 24ms/step\n",
      "1/1 [==============================] - 0s 24ms/step\n",
      "1/1 [==============================] - 0s 27ms/step\n",
      "1/1 [==============================] - 0s 23ms/step\n",
      "1/1 [==============================] - 0s 22ms/step\n",
      "1/1 [==============================] - 0s 24ms/step\n",
      "1/1 [==============================] - 0s 23ms/step\n",
      "1/1 [==============================] - 0s 23ms/step\n",
      "1/1 [==============================] - 0s 24ms/step\n",
      "1/1 [==============================] - 0s 25ms/step\n",
      "1/1 [==============================] - 0s 24ms/step\n",
      "1/1 [==============================] - 0s 21ms/step\n",
      "1/1 [==============================] - 0s 21ms/step\n",
      "1/1 [==============================] - 0s 22ms/step\n",
      "1/1 [==============================] - 0s 28ms/step\n",
      "1/1 [==============================] - 0s 30ms/step\n",
      "1/1 [==============================] - 0s 22ms/step\n",
      "1/1 [==============================] - 1s 880ms/step\n",
      "1/1 [==============================] - 0s 22ms/step\n",
      "1/1 [==============================] - 0s 22ms/step\n",
      "1/1 [==============================] - 0s 27ms/step\n",
      "1/1 [==============================] - 0s 28ms/step\n",
      "1/1 [==============================] - 0s 21ms/step\n",
      "1/1 [==============================] - 0s 22ms/step\n",
      "1/1 [==============================] - 0s 22ms/step\n",
      "1/1 [==============================] - 0s 21ms/step\n",
      "1/1 [==============================] - 0s 23ms/step\n",
      "1/1 [==============================] - 0s 22ms/step\n",
      "1/1 [==============================] - 0s 21ms/step\n",
      "1/1 [==============================] - 0s 28ms/step\n",
      "1/1 [==============================] - 0s 29ms/step\n",
      "1/1 [==============================] - 0s 24ms/step\n",
      "1/1 [==============================] - 0s 26ms/step\n",
      "1/1 [==============================] - 0s 21ms/step\n",
      "1/1 [==============================] - 0s 24ms/step\n",
      "1/1 [==============================] - 0s 23ms/step\n",
      "1/1 [==============================] - 0s 24ms/step\n",
      "1/1 [==============================] - 0s 21ms/step\n",
      "1/1 [==============================] - 0s 22ms/step\n",
      "1/1 [==============================] - 0s 25ms/step\n",
      "1/1 [==============================] - 0s 28ms/step\n",
      "1/1 [==============================] - 0s 22ms/step\n",
      "1/1 [==============================] - 0s 22ms/step\n",
      "1/1 [==============================] - 0s 22ms/step\n",
      "1/1 [==============================] - 0s 22ms/step\n",
      "1/1 [==============================] - 0s 24ms/step\n",
      "1/1 [==============================] - 0s 22ms/step\n",
      "1/1 [==============================] - 0s 22ms/step\n",
      "1/1 [==============================] - 0s 26ms/step\n",
      "1/1 [==============================] - 0s 17ms/step\n"
     ]
    }
   ],
   "source": [
    "import numpy as np\n",
    "\n",
    "def get_features_and_labels(dataset):\n",
    "    all_features = []\n",
    "    all_labels = []\n",
    "    for images, labels in dataset:\n",
    "        preprocessed_images = keras.applications.vgg16.preprocess_input(images)\n",
    "        features = conv_base.predict(preprocessed_images)\n",
    "        all_features.append(features)\n",
    "        all_labels.append(labels)\n",
    "    return np.concatenate(all_features), np.concatenate(all_labels)\n",
    "\n",
    "train_features, train_labels =  get_features_and_labels(train_dataset)\n",
    "val_features, val_labels =  get_features_and_labels(validation_dataset)\n",
    "test_features, test_labels =  get_features_and_labels(test_dataset)"
   ]
  },
  {
   "cell_type": "code",
   "execution_count": 33,
   "metadata": {
    "colab": {
     "base_uri": "https://localhost:8080/"
    },
    "id": "Q8pL8Ncp9JGV",
    "outputId": "f7126906-00ef-4168-ce3b-1ae8759d2d95"
   },
   "outputs": [
    {
     "data": {
      "text/plain": [
       "(2000, 5, 5, 512)"
      ]
     },
     "execution_count": 33,
     "metadata": {},
     "output_type": "execute_result"
    }
   ],
   "source": [
    "train_features.shape"
   ]
  },
  {
   "cell_type": "markdown",
   "metadata": {
    "id": "MwO-_Q1G9JGV"
   },
   "source": [
    "**Defining and training the densely connected classifier**"
   ]
  },
  {
   "cell_type": "code",
   "execution_count": 34,
   "metadata": {
    "colab": {
     "base_uri": "https://localhost:8080/"
    },
    "id": "gOttaNOj9JGV",
    "outputId": "3013ed64-1d92-4110-dbfa-2ee5cdb64b47"
   },
   "outputs": [
    {
     "name": "stdout",
     "output_type": "stream",
     "text": [
      "Epoch 1/20\n",
      "63/63 [==============================] - 1s 10ms/step - loss: 19.3442 - accuracy: 0.9225 - val_loss: 24.0043 - val_accuracy: 0.8780\n",
      "Epoch 2/20\n",
      "63/63 [==============================] - 0s 7ms/step - loss: 2.9299 - accuracy: 0.9775 - val_loss: 4.8983 - val_accuracy: 0.9680\n",
      "Epoch 3/20\n",
      "63/63 [==============================] - 0s 7ms/step - loss: 1.5137 - accuracy: 0.9840 - val_loss: 5.2411 - val_accuracy: 0.9690\n",
      "Epoch 4/20\n",
      "63/63 [==============================] - 0s 7ms/step - loss: 1.5100 - accuracy: 0.9895 - val_loss: 6.3511 - val_accuracy: 0.9640\n",
      "Epoch 5/20\n",
      "63/63 [==============================] - 0s 6ms/step - loss: 1.3685 - accuracy: 0.9905 - val_loss: 5.0639 - val_accuracy: 0.9730\n",
      "Epoch 6/20\n",
      "63/63 [==============================] - 0s 7ms/step - loss: 0.3226 - accuracy: 0.9955 - val_loss: 4.2516 - val_accuracy: 0.9710\n",
      "Epoch 7/20\n",
      "63/63 [==============================] - 1s 8ms/step - loss: 0.7978 - accuracy: 0.9945 - val_loss: 3.8098 - val_accuracy: 0.9820\n",
      "Epoch 8/20\n",
      "63/63 [==============================] - 0s 6ms/step - loss: 0.4566 - accuracy: 0.9965 - val_loss: 6.9135 - val_accuracy: 0.9600\n",
      "Epoch 9/20\n",
      "63/63 [==============================] - 0s 7ms/step - loss: 0.2387 - accuracy: 0.9975 - val_loss: 4.0927 - val_accuracy: 0.9810\n",
      "Epoch 10/20\n",
      "63/63 [==============================] - 0s 6ms/step - loss: 0.0394 - accuracy: 0.9990 - val_loss: 4.7961 - val_accuracy: 0.9760\n",
      "Epoch 11/20\n",
      "63/63 [==============================] - 0s 7ms/step - loss: 0.3586 - accuracy: 0.9965 - val_loss: 9.3526 - val_accuracy: 0.9650\n",
      "Epoch 12/20\n",
      "63/63 [==============================] - 0s 6ms/step - loss: 0.1947 - accuracy: 0.9975 - val_loss: 4.9070 - val_accuracy: 0.9790\n",
      "Epoch 13/20\n",
      "63/63 [==============================] - 0s 7ms/step - loss: 0.0336 - accuracy: 0.9990 - val_loss: 5.7870 - val_accuracy: 0.9730\n",
      "Epoch 14/20\n",
      "63/63 [==============================] - 0s 7ms/step - loss: 0.2489 - accuracy: 0.9980 - val_loss: 7.5892 - val_accuracy: 0.9650\n",
      "Epoch 15/20\n",
      "63/63 [==============================] - 0s 6ms/step - loss: 0.1743 - accuracy: 0.9975 - val_loss: 6.4317 - val_accuracy: 0.9760\n",
      "Epoch 16/20\n",
      "63/63 [==============================] - 0s 7ms/step - loss: 0.1879 - accuracy: 0.9980 - val_loss: 5.5951 - val_accuracy: 0.9800\n",
      "Epoch 17/20\n",
      "63/63 [==============================] - 0s 7ms/step - loss: 0.1650 - accuracy: 0.9980 - val_loss: 5.8836 - val_accuracy: 0.9750\n",
      "Epoch 18/20\n",
      "63/63 [==============================] - 0s 7ms/step - loss: 0.0287 - accuracy: 0.9990 - val_loss: 5.2598 - val_accuracy: 0.9750\n",
      "Epoch 19/20\n",
      "63/63 [==============================] - 0s 6ms/step - loss: 0.2092 - accuracy: 0.9970 - val_loss: 5.4492 - val_accuracy: 0.9780\n",
      "Epoch 20/20\n",
      "63/63 [==============================] - 0s 6ms/step - loss: 0.0668 - accuracy: 0.9990 - val_loss: 6.0065 - val_accuracy: 0.9740\n"
     ]
    }
   ],
   "source": [
    "inputs = keras.Input(shape=(5, 5, 512))\n",
    "x = layers.Flatten()(inputs)\n",
    "x = layers.Dense(256)(x)\n",
    "x = layers.Dropout(0.5)(x)\n",
    "outputs = layers.Dense(1, activation=\"sigmoid\")(x)\n",
    "model = keras.Model(inputs, outputs)\n",
    "model.compile(loss=\"binary_crossentropy\",\n",
    "              optimizer=\"rmsprop\",\n",
    "              metrics=[\"accuracy\"])\n",
    "\n",
    "callbacks = [\n",
    "    keras.callbacks.ModelCheckpoint(\n",
    "      filepath=\"feature_extraction.keras\",\n",
    "      save_best_only=True,\n",
    "      monitor=\"val_loss\")\n",
    "]\n",
    "history = model.fit(\n",
    "    train_features, train_labels,\n",
    "    epochs=20,\n",
    "    validation_data=(val_features, val_labels),\n",
    "    callbacks=callbacks)"
   ]
  },
  {
   "cell_type": "markdown",
   "metadata": {
    "id": "_NOmJDfO9JGV"
   },
   "source": [
    "**Plotting the results**"
   ]
  },
  {
   "cell_type": "code",
   "execution_count": 35,
   "metadata": {
    "colab": {
     "base_uri": "https://localhost:8080/",
     "height": 545
    },
    "id": "qmLejzW69JGV",
    "outputId": "109b78d8-b2f1-4065-a080-40d0ab4df760"
   },
   "outputs": [
    {
     "data": {
      "image/png": "[encoded data removed]",
      "text/plain": [
       "<Figure size 432x288 with 1 Axes>"
      ]
     },
     "metadata": {
      "needs_background": "light"
     },
     "output_type": "display_data"
    },
    {
     "data": {
      "image/png": "[encoded data removed]",
      "text/plain": [
       "<Figure size 432x288 with 1 Axes>"
      ]
     },
     "metadata": {
      "needs_background": "light"
     },
     "output_type": "display_data"
    }
   ],
   "source": [
    "import matplotlib.pyplot as plt\n",
    "acc = history.history[\"accuracy\"]\n",
    "val_acc = history.history[\"val_accuracy\"]\n",
    "loss = history.history[\"loss\"]\n",
    "val_loss = history.history[\"val_loss\"]\n",
    "epochs = range(1, len(acc) + 1)\n",
    "plt.plot(epochs, acc, \"bo\", label=\"Training accuracy\")\n",
    "plt.plot(epochs, val_acc, \"b\", label=\"Validation accuracy\")\n",
    "plt.title(\"Training and validation accuracy\")\n",
    "plt.legend()\n",
    "plt.figure()\n",
    "plt.plot(epochs, loss, \"bo\", label=\"Training loss\")\n",
    "plt.plot(epochs, val_loss, \"b\", label=\"Validation loss\")\n",
    "plt.title(\"Training and validation loss\")\n",
    "plt.legend()\n",
    "plt.show()"
   ]
  },
  {
   "cell_type": "markdown",
   "metadata": {
    "id": "1LUP9hbh9JGV"
   },
   "source": [
    "#### Feature extraction together with data augmentation"
   ]
  },
  {
   "cell_type": "markdown",
   "metadata": {
    "id": "ybQDgj919JGV"
   },
   "source": [
    "**Instantiating and freezing the VGG16 convolutional base**"
   ]
  },
  {
   "cell_type": "code",
   "execution_count": 36,
   "metadata": {
    "id": "riNC6jzP9JGV"
   },
   "outputs": [],
   "source": [
    "conv_base  = keras.applications.vgg16.VGG16(\n",
    "    weights=\"imagenet\",\n",
    "    include_top=False)\n",
    "conv_base.trainable = False"
   ]
  },
  {
   "cell_type": "markdown",
   "metadata": {
    "id": "yVM_IaG09JGW"
   },
   "source": [
    "**Printing the list of trainable weights before and after freezing**"
   ]
  },
  {
   "cell_type": "code",
   "execution_count": 37,
   "metadata": {
    "colab": {
     "base_uri": "https://localhost:8080/"
    },
    "id": "qd1bPEaj9JGW",
    "outputId": "ac743868-68e6-44e7-c714-f1e4aec48aac"
   },
   "outputs": [
    {
     "name": "stdout",
     "output_type": "stream",
     "text": [
      "This is the number of trainable weights before freezing the conv base: 26\n"
     ]
    }
   ],
   "source": [
    "conv_base.trainable = True\n",
    "print(\"This is the number of trainable weights \"\n",
    "      \"before freezing the conv base:\", len(conv_base.trainable_weights))"
   ]
  },
  {
   "cell_type": "code",
   "execution_count": 38,
   "metadata": {
    "colab": {
     "base_uri": "https://localhost:8080/"
    },
    "id": "-5iW6cww9JGW",
    "outputId": "201cdec4-91a4-42aa-eed3-9c6ad684adac"
   },
   "outputs": [
    {
     "name": "stdout",
     "output_type": "stream",
     "text": [
      "This is the number of trainable weights after freezing the conv base: 0\n"
     ]
    }
   ],
   "source": [
    "conv_base.trainable = False\n",
    "print(\"This is the number of trainable weights \"\n",
    "      \"after freezing the conv base:\", len(conv_base.trainable_weights))"
   ]
  },
  {
   "cell_type": "markdown",
   "metadata": {
    "id": "rMdLNEfZ9JGW"
   },
   "source": [
    "**Adding a data augmentation stage and a classifier to the convolutional base**"
   ]
  },
  {
   "cell_type": "code",
   "execution_count": 39,
   "metadata": {
    "id": "F7ogTFAG9JGW"
   },
   "outputs": [],
   "source": [
    "data_augmentation = keras.Sequential(\n",
    "    [\n",
    "        layers.RandomFlip(\"horizontal\"),\n",
    "        layers.RandomRotation(0.1),\n",
    "        layers.RandomZoom(0.2),\n",
    "    ]\n",
    ")\n",
    "\n",
    "inputs = keras.Input(shape=(180, 180, 3))\n",
    "x = data_augmentation(inputs)\n",
    "x = keras.applications.vgg16.preprocess_input(x)\n",
    "x = conv_base(x)\n",
    "x = layers.Flatten()(x)\n",
    "x = layers.Dense(256)(x)\n",
    "x = layers.Dropout(0.5)(x)\n",
    "outputs = layers.Dense(1, activation=\"sigmoid\")(x)\n",
    "model = keras.Model(inputs, outputs)\n",
    "model.compile(loss=\"binary_crossentropy\",\n",
    "              optimizer=\"rmsprop\",\n",
    "              metrics=[\"accuracy\"])"
   ]
  },
  {
   "cell_type": "code",
   "execution_count": 40,
   "metadata": {
    "colab": {
     "base_uri": "https://localhost:8080/"
    },
    "id": "FdsYzaOu9JGW",
    "outputId": "602201cb-a52f-475c-f91e-71371b94938d"
   },
   "outputs": [
    {
     "name": "stdout",
     "output_type": "stream",
     "text": [
      "Epoch 1/50\n",
      "63/63 [==============================] - 15s 204ms/step - loss: 17.3001 - accuracy: 0.8980 - val_loss: 9.7166 - val_accuracy: 0.9330\n",
      "Epoch 2/50\n",
      "63/63 [==============================] - 14s 226ms/step - loss: 7.4549 - accuracy: 0.9430 - val_loss: 8.5269 - val_accuracy: 0.9510\n",
      "Epoch 3/50\n",
      "63/63 [==============================] - 13s 206ms/step - loss: 6.8335 - accuracy: 0.9520 - val_loss: 4.6826 - val_accuracy: 0.9720\n",
      "Epoch 4/50\n",
      "63/63 [==============================] - 13s 203ms/step - loss: 4.2838 - accuracy: 0.9655 - val_loss: 8.6036 - val_accuracy: 0.9620\n",
      "Epoch 5/50\n",
      "63/63 [==============================] - 13s 205ms/step - loss: 5.9354 - accuracy: 0.9530 - val_loss: 3.3299 - val_accuracy: 0.9800\n",
      "Epoch 6/50\n",
      "63/63 [==============================] - 13s 203ms/step - loss: 4.4272 - accuracy: 0.9590 - val_loss: 3.2221 - val_accuracy: 0.9760\n",
      "Epoch 7/50\n",
      "63/63 [==============================] - 13s 201ms/step - loss: 2.7313 - accuracy: 0.9725 - val_loss: 3.8031 - val_accuracy: 0.9730\n",
      "Epoch 8/50\n",
      "63/63 [==============================] - 13s 204ms/step - loss: 3.0280 - accuracy: 0.9715 - val_loss: 2.8462 - val_accuracy: 0.9710\n",
      "Epoch 9/50\n",
      "63/63 [==============================] - 13s 206ms/step - loss: 2.3887 - accuracy: 0.9730 - val_loss: 2.6701 - val_accuracy: 0.9770\n",
      "Epoch 10/50\n",
      "63/63 [==============================] - 13s 207ms/step - loss: 2.3186 - accuracy: 0.9725 - val_loss: 2.1695 - val_accuracy: 0.9810\n",
      "Epoch 11/50\n",
      "63/63 [==============================] - 13s 202ms/step - loss: 1.8195 - accuracy: 0.9795 - val_loss: 2.5533 - val_accuracy: 0.9840\n",
      "Epoch 12/50\n",
      "63/63 [==============================] - 13s 202ms/step - loss: 1.7482 - accuracy: 0.9800 - val_loss: 2.9180 - val_accuracy: 0.9790\n",
      "Epoch 13/50\n",
      "63/63 [==============================] - 13s 198ms/step - loss: 1.8684 - accuracy: 0.9805 - val_loss: 3.0233 - val_accuracy: 0.9810\n",
      "Epoch 14/50\n",
      "63/63 [==============================] - 13s 202ms/step - loss: 1.6360 - accuracy: 0.9815 - val_loss: 2.6404 - val_accuracy: 0.9810\n",
      "Epoch 15/50\n",
      "63/63 [==============================] - 13s 204ms/step - loss: 1.4762 - accuracy: 0.9790 - val_loss: 3.2786 - val_accuracy: 0.9800\n",
      "Epoch 16/50\n",
      "63/63 [==============================] - 13s 210ms/step - loss: 1.4500 - accuracy: 0.9805 - val_loss: 2.0270 - val_accuracy: 0.9880\n",
      "Epoch 17/50\n",
      "63/63 [==============================] - 13s 201ms/step - loss: 1.2108 - accuracy: 0.9850 - val_loss: 3.0894 - val_accuracy: 0.9800\n",
      "Epoch 18/50\n",
      "63/63 [==============================] - 13s 201ms/step - loss: 1.8693 - accuracy: 0.9795 - val_loss: 2.3397 - val_accuracy: 0.9830\n",
      "Epoch 19/50\n",
      "63/63 [==============================] - 13s 203ms/step - loss: 1.6863 - accuracy: 0.9760 - val_loss: 2.0380 - val_accuracy: 0.9860\n",
      "Epoch 20/50\n",
      "63/63 [==============================] - 13s 199ms/step - loss: 1.2929 - accuracy: 0.9845 - val_loss: 2.5607 - val_accuracy: 0.9820\n",
      "Epoch 21/50\n",
      "63/63 [==============================] - 13s 200ms/step - loss: 1.0279 - accuracy: 0.9830 - val_loss: 2.3655 - val_accuracy: 0.9820\n",
      "Epoch 22/50\n",
      "63/63 [==============================] - 13s 203ms/step - loss: 1.0380 - accuracy: 0.9850 - val_loss: 3.2373 - val_accuracy: 0.9770\n",
      "Epoch 23/50\n",
      "63/63 [==============================] - 13s 204ms/step - loss: 1.2043 - accuracy: 0.9840 - val_loss: 1.7367 - val_accuracy: 0.9830\n",
      "Epoch 24/50\n",
      "63/63 [==============================] - 13s 201ms/step - loss: 1.1460 - accuracy: 0.9870 - val_loss: 2.4109 - val_accuracy: 0.9760\n",
      "Epoch 25/50\n",
      "63/63 [==============================] - 13s 199ms/step - loss: 1.1978 - accuracy: 0.9820 - val_loss: 2.7285 - val_accuracy: 0.9760\n",
      "Epoch 26/50\n",
      "63/63 [==============================] - 13s 201ms/step - loss: 1.1198 - accuracy: 0.9835 - val_loss: 2.6221 - val_accuracy: 0.9750\n",
      "Epoch 27/50\n",
      "63/63 [==============================] - 13s 203ms/step - loss: 0.8185 - accuracy: 0.9875 - val_loss: 1.8000 - val_accuracy: 0.9820\n",
      "Epoch 28/50\n",
      "63/63 [==============================] - 13s 207ms/step - loss: 0.7714 - accuracy: 0.9865 - val_loss: 1.6075 - val_accuracy: 0.9790\n",
      "Epoch 29/50\n",
      "63/63 [==============================] - 13s 201ms/step - loss: 0.6084 - accuracy: 0.9880 - val_loss: 2.1147 - val_accuracy: 0.9790\n",
      "Epoch 30/50\n",
      "63/63 [==============================] - 13s 198ms/step - loss: 0.7716 - accuracy: 0.9850 - val_loss: 2.5842 - val_accuracy: 0.9800\n",
      "Epoch 31/50\n",
      "63/63 [==============================] - 13s 199ms/step - loss: 1.0349 - accuracy: 0.9810 - val_loss: 2.2845 - val_accuracy: 0.9790\n",
      "Epoch 32/50\n",
      "63/63 [==============================] - 13s 203ms/step - loss: 0.6336 - accuracy: 0.9865 - val_loss: 2.0522 - val_accuracy: 0.9760\n",
      "Epoch 33/50\n",
      "63/63 [==============================] - 13s 204ms/step - loss: 0.6572 - accuracy: 0.9880 - val_loss: 2.1001 - val_accuracy: 0.9800\n",
      "Epoch 34/50\n",
      "63/63 [==============================] - 13s 201ms/step - loss: 0.6948 - accuracy: 0.9895 - val_loss: 1.9996 - val_accuracy: 0.9750\n",
      "Epoch 35/50\n",
      "63/63 [==============================] - 13s 202ms/step - loss: 0.7562 - accuracy: 0.9870 - val_loss: 1.8413 - val_accuracy: 0.9780\n",
      "Epoch 36/50\n",
      "63/63 [==============================] - 13s 204ms/step - loss: 0.7165 - accuracy: 0.9855 - val_loss: 1.7467 - val_accuracy: 0.9790\n",
      "Epoch 37/50\n",
      "63/63 [==============================] - 13s 204ms/step - loss: 0.5065 - accuracy: 0.9855 - val_loss: 1.6510 - val_accuracy: 0.9780\n",
      "Epoch 38/50\n",
      "63/63 [==============================] - 13s 202ms/step - loss: 0.5354 - accuracy: 0.9825 - val_loss: 2.1758 - val_accuracy: 0.9760\n",
      "Epoch 39/50\n",
      "63/63 [==============================] - 13s 203ms/step - loss: 0.7110 - accuracy: 0.9870 - val_loss: 1.8914 - val_accuracy: 0.9780\n",
      "Epoch 40/50\n",
      "63/63 [==============================] - 13s 204ms/step - loss: 0.5725 - accuracy: 0.9855 - val_loss: 2.0748 - val_accuracy: 0.9810\n",
      "Epoch 41/50\n",
      "63/63 [==============================] - 13s 202ms/step - loss: 0.5212 - accuracy: 0.9865 - val_loss: 4.0284 - val_accuracy: 0.9710\n",
      "Epoch 42/50\n",
      "63/63 [==============================] - 13s 201ms/step - loss: 0.7876 - accuracy: 0.9875 - val_loss: 2.3834 - val_accuracy: 0.9720\n",
      "Epoch 43/50\n",
      "63/63 [==============================] - 13s 203ms/step - loss: 0.8650 - accuracy: 0.9825 - val_loss: 2.0081 - val_accuracy: 0.9800\n",
      "Epoch 44/50\n",
      "63/63 [==============================] - 13s 204ms/step - loss: 0.5726 - accuracy: 0.9855 - val_loss: 1.7812 - val_accuracy: 0.9770\n",
      "Epoch 45/50\n",
      "63/63 [==============================] - 13s 201ms/step - loss: 0.6332 - accuracy: 0.9855 - val_loss: 1.9434 - val_accuracy: 0.9790\n",
      "Epoch 46/50\n",
      "63/63 [==============================] - 13s 201ms/step - loss: 0.3316 - accuracy: 0.9910 - val_loss: 1.8219 - val_accuracy: 0.9770\n",
      "Epoch 47/50\n",
      "63/63 [==============================] - 13s 205ms/step - loss: 0.5807 - accuracy: 0.9855 - val_loss: 2.7626 - val_accuracy: 0.9750\n",
      "Epoch 48/50\n",
      "63/63 [==============================] - 13s 205ms/step - loss: 0.8115 - accuracy: 0.9870 - val_loss: 2.2436 - val_accuracy: 0.9760\n",
      "Epoch 49/50\n",
      "63/63 [==============================] - 13s 205ms/step - loss: 0.2182 - accuracy: 0.9910 - val_loss: 1.8142 - val_accuracy: 0.9780\n",
      "Epoch 50/50\n",
      "63/63 [==============================] - 13s 201ms/step - loss: 0.5185 - accuracy: 0.9890 - val_loss: 1.6836 - val_accuracy: 0.9800\n"
     ]
    }
   ],
   "source": [
    "callbacks = [\n",
    "    keras.callbacks.ModelCheckpoint(\n",
    "        filepath=\"feature_extraction_with_data_augmentation.keras\",\n",
    "        save_best_only=True,\n",
    "        monitor=\"val_loss\")\n",
    "]\n",
    "history = model.fit(\n",
    "    train_dataset,\n",
    "    epochs=50,\n",
    "    validation_data=validation_dataset,\n",
    "    callbacks=callbacks)"
   ]
  },
  {
   "cell_type": "markdown",
   "metadata": {
    "id": "xyzkQzWw9JGW"
   },
   "source": [
    "**Evaluating the model on the test set**"
   ]
  },
  {
   "cell_type": "code",
   "execution_count": 41,
   "metadata": {
    "colab": {
     "base_uri": "https://localhost:8080/"
    },
    "id": "tkHjDovi9JGW",
    "outputId": "0a50100c-eeb4-4b89-9445-620fa3aad8a6"
   },
   "outputs": [
    {
     "name": "stdout",
     "output_type": "stream",
     "text": [
      "32/32 [==============================] - 5s 124ms/step - loss: 2.2567 - accuracy: 0.9770\n",
      "Test accuracy: 0.977\n"
     ]
    }
   ],
   "source": [
    "test_model = keras.models.load_model(\n",
    "    \"feature_extraction_with_data_augmentation.keras\")\n",
    "test_loss, test_acc = test_model.evaluate(test_dataset)\n",
    "print(f\"Test accuracy: {test_acc:.3f}\")"
   ]
  },
  {
   "cell_type": "markdown",
   "metadata": {
    "id": "seFKHHv09JGW"
   },
   "source": [
    "### Fine-tuning a pretrained model"
   ]
  },
  {
   "cell_type": "code",
   "execution_count": 43,
   "metadata": {
    "colab": {
     "base_uri": "https://localhost:8080/"
    },
    "id": "EMlWdvyF9JGW",
    "outputId": "594d3350-8e33-489e-fdee-bd8b32c372ea"
   },
   "outputs": [
    {
     "name": "stdout",
     "output_type": "stream",
     "text": [
      "Model: \"vgg16\"\n",
      "_________________________________________________________________\n",
      " Layer (type)                Output Shape              Param #   \n",
      "=================================================================\n",
      " input_6 (InputLayer)        [(None, None, None, 3)]   0         \n",
      "                                                                 \n",
      " block1_conv1 (Conv2D)       (None, None, None, 64)    1792      \n",
      "                                                                 \n",
      " block1_conv2 (Conv2D)       (None, None, None, 64)    36928     \n",
      "                                                                 \n",
      " block1_pool (MaxPooling2D)  (None, None, None, 64)    0         \n",
      "                                                                 \n",
      " block2_conv1 (Conv2D)       (None, None, None, 128)   73856     \n",
      "                                                                 \n",
      " block2_conv2 (Conv2D)       (None, None, None, 128)   147584    \n",
      "                                                                 \n",
      " block2_pool (MaxPooling2D)  (None, None, None, 128)   0         \n",
      "                                                                 \n",
      " block3_conv1 (Conv2D)       (None, None, None, 256)   295168    \n",
      "                                                                 \n",
      " block3_conv2 (Conv2D)       (None, None, None, 256)   590080    \n",
      "                                                                 \n",
      " block3_conv3 (Conv2D)       (None, None, None, 256)   590080    \n",
      "                                                                 \n",
      " block3_pool (MaxPooling2D)  (None, None, None, 256)   0         \n",
      "                                                                 \n",
      " block4_conv1 (Conv2D)       (None, None, None, 512)   1180160   \n",
      "                                                                 \n",
      " block4_conv2 (Conv2D)       (None, None, None, 512)   2359808   \n",
      "                                                                 \n",
      " block4_conv3 (Conv2D)       (None, None, None, 512)   2359808   \n",
      "                                                                 \n",
      " block4_pool (MaxPooling2D)  (None, None, None, 512)   0         \n",
      "                                                                 \n",
      " block5_conv1 (Conv2D)       (None, None, None, 512)   2359808   \n",
      "                                                                 \n",
      " block5_conv2 (Conv2D)       (None, None, None, 512)   2359808   \n",
      "                                                                 \n",
      " block5_conv3 (Conv2D)       (None, None, None, 512)   2359808   \n",
      "                                                                 \n",
      " block5_pool (MaxPooling2D)  (None, None, None, 512)   0         \n",
      "                                                                 \n",
      "=================================================================\n",
      "Total params: 14,714,688\n",
      "Trainable params: 0\n",
      "Non-trainable params: 14,714,688\n",
      "_________________________________________________________________\n"
     ]
    }
   ],
   "source": [
    "conv_base.summary()"
   ]
  },
  {
   "cell_type": "markdown",
   "metadata": {
    "id": "2vMouF1g9JGW"
   },
   "source": [
    "**Freezing all layers until the fourth from the last**"
   ]
  },
  {
   "cell_type": "code",
   "execution_count": 44,
   "metadata": {
    "id": "06RRJmo59JGW"
   },
   "outputs": [],
   "source": [
    "conv_base.trainable = True\n",
    "for layer in conv_base.layers[:-4]:\n",
    "    layer.trainable = False"
   ]
  },
  {
   "cell_type": "markdown",
   "metadata": {
    "id": "SV2TrVj99JGX"
   },
   "source": [
    "**Fine-tuning the model**"
   ]
  },
  {
   "cell_type": "code",
   "execution_count": 45,
   "metadata": {
    "colab": {
     "base_uri": "https://localhost:8080/"
    },
    "id": "yJYOY8379JGX",
    "outputId": "f2bd39c0-dcb3-432a-c96c-65d5196c9194"
   },
   "outputs": [
    {
     "name": "stdout",
     "output_type": "stream",
     "text": [
      "Epoch 1/30\n",
      "63/63 [==============================] - 16s 230ms/step - loss: 0.5967 - accuracy: 0.9880 - val_loss: 1.4549 - val_accuracy: 0.9800\n",
      "Epoch 2/30\n",
      "63/63 [==============================] - 14s 226ms/step - loss: 0.3351 - accuracy: 0.9900 - val_loss: 2.0095 - val_accuracy: 0.9790\n",
      "Epoch 3/30\n",
      "63/63 [==============================] - 14s 225ms/step - loss: 0.2266 - accuracy: 0.9905 - val_loss: 1.8034 - val_accuracy: 0.9790\n",
      "Epoch 4/30\n",
      "63/63 [==============================] - 14s 224ms/step - loss: 0.2169 - accuracy: 0.9930 - val_loss: 1.8333 - val_accuracy: 0.9790\n",
      "Epoch 5/30\n",
      "63/63 [==============================] - 14s 225ms/step - loss: 0.1873 - accuracy: 0.9940 - val_loss: 1.9877 - val_accuracy: 0.9780\n",
      "Epoch 6/30\n",
      "63/63 [==============================] - 14s 224ms/step - loss: 0.2591 - accuracy: 0.9885 - val_loss: 1.8499 - val_accuracy: 0.9780\n",
      "Epoch 7/30\n",
      "63/63 [==============================] - 14s 222ms/step - loss: 0.2098 - accuracy: 0.9930 - val_loss: 1.8787 - val_accuracy: 0.9760\n",
      "Epoch 8/30\n",
      "63/63 [==============================] - 14s 223ms/step - loss: 0.3947 - accuracy: 0.9920 - val_loss: 1.4331 - val_accuracy: 0.9810\n",
      "Epoch 9/30\n",
      "63/63 [==============================] - 14s 227ms/step - loss: 0.1017 - accuracy: 0.9950 - val_loss: 1.3018 - val_accuracy: 0.9820\n",
      "Epoch 10/30\n",
      "63/63 [==============================] - 14s 226ms/step - loss: 0.1235 - accuracy: 0.9955 - val_loss: 1.2109 - val_accuracy: 0.9820\n",
      "Epoch 11/30\n",
      "63/63 [==============================] - 14s 222ms/step - loss: 0.2946 - accuracy: 0.9925 - val_loss: 1.2412 - val_accuracy: 0.9840\n",
      "Epoch 12/30\n",
      "63/63 [==============================] - 14s 222ms/step - loss: 0.1103 - accuracy: 0.9940 - val_loss: 1.2556 - val_accuracy: 0.9810\n",
      "Epoch 13/30\n",
      "63/63 [==============================] - 14s 223ms/step - loss: 0.1274 - accuracy: 0.9950 - val_loss: 1.5743 - val_accuracy: 0.9800\n",
      "Epoch 14/30\n",
      "63/63 [==============================] - 14s 223ms/step - loss: 0.0273 - accuracy: 0.9985 - val_loss: 1.7630 - val_accuracy: 0.9800\n",
      "Epoch 15/30\n",
      "63/63 [==============================] - 14s 225ms/step - loss: 0.2152 - accuracy: 0.9940 - val_loss: 1.5185 - val_accuracy: 0.9830\n",
      "Epoch 16/30\n",
      "63/63 [==============================] - 14s 223ms/step - loss: 0.0743 - accuracy: 0.9950 - val_loss: 1.3253 - val_accuracy: 0.9840\n",
      "Epoch 17/30\n",
      "63/63 [==============================] - 14s 220ms/step - loss: 0.2359 - accuracy: 0.9945 - val_loss: 1.4390 - val_accuracy: 0.9780\n",
      "Epoch 18/30\n",
      "63/63 [==============================] - 14s 223ms/step - loss: 0.1415 - accuracy: 0.9965 - val_loss: 1.2777 - val_accuracy: 0.9810\n",
      "Epoch 19/30\n",
      "63/63 [==============================] - 14s 224ms/step - loss: 0.1845 - accuracy: 0.9950 - val_loss: 1.2734 - val_accuracy: 0.9820\n",
      "Epoch 20/30\n",
      "63/63 [==============================] - 14s 224ms/step - loss: 0.2365 - accuracy: 0.9925 - val_loss: 1.3907 - val_accuracy: 0.9790\n",
      "Epoch 21/30\n",
      "63/63 [==============================] - 14s 222ms/step - loss: 0.1054 - accuracy: 0.9960 - val_loss: 1.4455 - val_accuracy: 0.9790\n",
      "Epoch 22/30\n",
      "63/63 [==============================] - 14s 221ms/step - loss: 0.1156 - accuracy: 0.9975 - val_loss: 1.7659 - val_accuracy: 0.9770\n",
      "Epoch 23/30\n",
      "63/63 [==============================] - 14s 219ms/step - loss: 0.1663 - accuracy: 0.9935 - val_loss: 1.4209 - val_accuracy: 0.9790\n",
      "Epoch 24/30\n",
      "63/63 [==============================] - 14s 224ms/step - loss: 0.1421 - accuracy: 0.9950 - val_loss: 1.4121 - val_accuracy: 0.9800\n",
      "Epoch 25/30\n",
      "63/63 [==============================] - 15s 227ms/step - loss: 0.1196 - accuracy: 0.9960 - val_loss: 2.0413 - val_accuracy: 0.9770\n",
      "Epoch 26/30\n",
      "63/63 [==============================] - 14s 222ms/step - loss: 0.0614 - accuracy: 0.9965 - val_loss: 1.8727 - val_accuracy: 0.9780\n",
      "Epoch 27/30\n",
      "63/63 [==============================] - 14s 222ms/step - loss: 0.0627 - accuracy: 0.9970 - val_loss: 1.4680 - val_accuracy: 0.9790\n",
      "Epoch 28/30\n",
      "63/63 [==============================] - 14s 223ms/step - loss: 0.0846 - accuracy: 0.9965 - val_loss: 1.2876 - val_accuracy: 0.9820\n",
      "Epoch 29/30\n",
      "63/63 [==============================] - 14s 220ms/step - loss: 0.1314 - accuracy: 0.9965 - val_loss: 1.5350 - val_accuracy: 0.9760\n",
      "Epoch 30/30\n",
      "63/63 [==============================] - 14s 223ms/step - loss: 0.1415 - accuracy: 0.9950 - val_loss: 1.4630 - val_accuracy: 0.9800\n"
     ]
    }
   ],
   "source": [
    "model.compile(loss=\"binary_crossentropy\",\n",
    "              optimizer=keras.optimizers.RMSprop(learning_rate=1e-5),\n",
    "              metrics=[\"accuracy\"])\n",
    "\n",
    "callbacks = [\n",
    "    keras.callbacks.ModelCheckpoint(\n",
    "        filepath=\"fine_tuning.keras\",\n",
    "        save_best_only=True,\n",
    "        monitor=\"val_loss\")\n",
    "]\n",
    "history = model.fit(\n",
    "    train_dataset,\n",
    "    epochs=30,\n",
    "    validation_data=validation_dataset,\n",
    "    callbacks=callbacks)"
   ]
  },
  {
   "cell_type": "code",
   "execution_count": 46,
   "metadata": {
    "colab": {
     "base_uri": "https://localhost:8080/"
    },
    "id": "lePRTFEG9JGX",
    "outputId": "58fa08f9-6c3e-43a6-9aa6-c8f9fba05a86"
   },
   "outputs": [
    {
     "name": "stdout",
     "output_type": "stream",
     "text": [
      "32/32 [==============================] - 4s 113ms/step - loss: 2.1765 - accuracy: 0.9750\n",
      "Test accuracy: 0.975\n"
     ]
    }
   ],
   "source": [
    "model = keras.models.load_model(\"fine_tuning.keras\")\n",
    "test_loss, test_acc = model.evaluate(test_dataset)\n",
    "print(f\"Test accuracy: {test_acc:.3f}\")"
   ]
  },
  {
   "cell_type": "markdown",
   "metadata": {},
   "source": [
    "# summary"
   ]
  },
  {
   "cell_type": "markdown",
   "metadata": {},
   "source": [
    "Pre-Trained model with out Augmentation\n",
    "\n",
    "Our validation accuracy of roughly 97.30% is higher than the accuracy we attained during the tiny model's first training. Despite utilizing dropout with a rather high rate, the plots clearly show that we are overfitting practically right away."
   ]
  },
  {
   "cell_type": "markdown",
   "metadata": {},
   "source": [
    "Pre-Trained model with Data Augmentation\n",
    "\n",
    "The collection of samples used to assess a model is always important! Strong findings on one sample set may not necessarily generalize to all other sets since some sample sets may be more challenging than others. Pretrained model With Augmentation's accuracy increased somewhat from 97.30% to 97.50% as a result of this.\n"
   ]
  },
  {
   "cell_type": "markdown",
   "metadata": {},
   "source": [
    "Conclusion\n",
    "\n",
    "From the above results we can say that using data augmentation with increasing data points  we can able to generalise well with better accuracy "
   ]
  }
 ],
 "metadata": {
  "accelerator": "GPU",
  "colab": {
   "collapsed_sections": [],
   "provenance": []
  },
  "gpuClass": "standard",
  "kernelspec": {
   "display_name": "Python 3 (ipykernel)",
   "language": "python",
   "name": "python3"
  },
  "language_info": {
   "codemirror_mode": {
    "name": "ipython",
    "version": 3
   },
   "file_extension": ".py",
   "mimetype": "text/x-python",
   "name": "python",
   "nbconvert_exporter": "python",
   "pygments_lexer": "ipython3",
   "version": "3.9.12"
  }
 },
 "nbformat": 4,
 "nbformat_minor": 1
}
